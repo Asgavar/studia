{
 "cells": [
  {
   "cell_type": "code",
   "execution_count": 102,
   "metadata": {
    "ExecuteTime": {
     "end_time": "2020-01-28T12:27:32.362921Z",
     "start_time": "2020-01-28T12:27:32.351316Z"
    }
   },
   "outputs": [],
   "source": [
    "import functools\n",
    "import math"
   ]
  },
  {
   "cell_type": "code",
   "execution_count": 103,
   "metadata": {
    "ExecuteTime": {
     "end_time": "2020-01-28T12:27:32.844063Z",
     "start_time": "2020-01-28T12:27:32.820362Z"
    }
   },
   "outputs": [],
   "source": [
    "@functools.lru_cache\n",
    "def trapezoidal(f, a, b, x_count):\n",
    "    h = (b - a) / x_count\n",
    "    startval = 1/2 * f(a)\n",
    "    endval = 1/2 * f(b)\n",
    "    summed = startval + endval\n",
    "    for idx in range(1, x_count):\n",
    "        summed += f(a + idx * h)\n",
    "        \n",
    "    return h * summed"
   ]
  },
  {
   "cell_type": "code",
   "execution_count": 104,
   "metadata": {
    "ExecuteTime": {
     "end_time": "2020-01-28T12:27:33.396383Z",
     "start_time": "2020-01-28T12:27:33.375134Z"
    }
   },
   "outputs": [
    {
     "data": {
      "text/plain": [
       "0.33333349999999995"
      ]
     },
     "execution_count": 104,
     "metadata": {},
     "output_type": "execute_result"
    }
   ],
   "source": [
    "trapezoidal(lambda x: x**2, 0, 1, 1_000)"
   ]
  },
  {
   "cell_type": "code",
   "execution_count": 105,
   "metadata": {
    "ExecuteTime": {
     "end_time": "2020-01-28T12:27:34.651428Z",
     "start_time": "2020-01-28T12:27:34.637784Z"
    }
   },
   "outputs": [],
   "source": [
    "@functools.lru_cache\n",
    "def romberg(f, a, b, m, k):\n",
    "    if m == 0:\n",
    "        return trapezoidal(f, a, b, 2**k)\n",
    "    numerator = 4**m * romberg(f, a, b, m-1, k) - romberg(f, a, b, m-1, k-1)\n",
    "    return numerator / (4**m - 1)"
   ]
  },
  {
   "cell_type": "code",
   "execution_count": 106,
   "metadata": {
    "ExecuteTime": {
     "end_time": "2020-01-28T12:27:35.442077Z",
     "start_time": "2020-01-28T12:27:35.353073Z"
    }
   },
   "outputs": [
    {
     "data": {
      "text/plain": [
       "15444.450000000046"
      ]
     },
     "execution_count": 106,
     "metadata": {},
     "output_type": "execute_result"
    }
   ],
   "source": [
    "func_a = lambda x: 2019*x**5 - 2018*x**4 + 2017*x**3\n",
    "approx_a = romberg(func_a, -1, 2, 15, 15)\n",
    "approx_a"
   ]
  },
  {
   "cell_type": "code",
   "execution_count": 107,
   "metadata": {
    "ExecuteTime": {
     "end_time": "2020-01-28T12:27:37.624324Z",
     "start_time": "2020-01-28T12:27:37.614360Z"
    }
   },
   "outputs": [
    {
     "data": {
      "text/plain": [
       "15444.449999999999"
      ]
     },
     "execution_count": 107,
     "metadata": {},
     "output_type": "execute_result"
    }
   ],
   "source": [
    "F_a = lambda x: 673*x**6 / 2 - 2018*x**5 / 5 + 2017*x**4 / 4\n",
    "perfect_a = F_a(2) - F_a(-1)\n",
    "perfect_a"
   ]
  },
  {
   "cell_type": "code",
   "execution_count": 108,
   "metadata": {
    "ExecuteTime": {
     "end_time": "2020-01-28T12:27:38.281856Z",
     "start_time": "2020-01-28T12:27:38.274872Z"
    }
   },
   "outputs": [
    {
     "data": {
      "text/plain": [
       "4.729372449219227e-11"
      ]
     },
     "execution_count": 108,
     "metadata": {},
     "output_type": "execute_result"
    }
   ],
   "source": [
    "approx_a - perfect_a"
   ]
  },
  {
   "cell_type": "code",
   "execution_count": 110,
   "metadata": {
    "ExecuteTime": {
     "end_time": "2020-01-28T12:27:51.239771Z",
     "start_time": "2020-01-28T12:27:51.201631Z"
    }
   },
   "outputs": [
    {
     "data": {
      "text/plain": [
       "0.5493603067780096"
      ]
     },
     "execution_count": 110,
     "metadata": {},
     "output_type": "execute_result"
    }
   ],
   "source": [
    "func_b = lambda x: 1 / (1 + 25*x**2)\n",
    "approx_b = romberg(func_b, -1, 1, 15, 15)\n",
    "approx_b"
   ]
  },
  {
   "cell_type": "code",
   "execution_count": 111,
   "metadata": {
    "ExecuteTime": {
     "end_time": "2020-01-28T12:28:00.119976Z",
     "start_time": "2020-01-28T12:28:00.108890Z"
    }
   },
   "outputs": [
    {
     "data": {
      "text/plain": [
       "3.067780096621675e-07"
      ]
     },
     "execution_count": 111,
     "metadata": {},
     "output_type": "execute_result"
    }
   ],
   "source": [
    "perfect_b = 0.54936  # via Wolfram Alpha\n",
    "approx_b - perfect_b"
   ]
  },
  {
   "cell_type": "code",
   "execution_count": 113,
   "metadata": {
    "ExecuteTime": {
     "end_time": "2020-01-28T12:28:09.144200Z",
     "start_time": "2020-01-28T12:28:09.087893Z"
    }
   },
   "outputs": [
    {
     "data": {
      "text/plain": [
       "-0.10730479937170566"
      ]
     },
     "execution_count": 113,
     "metadata": {},
     "output_type": "execute_result"
    }
   ],
   "source": [
    "func_c = lambda x: math.sin(9*x + 1) / x\n",
    "approx_c = romberg(func_c, 1, 2*math.pi, 15, 15)\n",
    "approx_c"
   ]
  },
  {
   "cell_type": "code",
   "execution_count": 114,
   "metadata": {
    "ExecuteTime": {
     "end_time": "2020-01-28T12:28:09.595253Z",
     "start_time": "2020-01-28T12:28:09.591635Z"
    }
   },
   "outputs": [],
   "source": [
    "perfect_c = -0.107305"
   ]
  }
 ],
 "metadata": {
  "kernelspec": {
   "display_name": "Python 3",
   "language": "python",
   "name": "python3"
  },
  "language_info": {
   "codemirror_mode": {
    "name": "ipython",
    "version": 3
   },
   "file_extension": ".py",
   "mimetype": "text/x-python",
   "name": "python",
   "nbconvert_exporter": "python",
   "pygments_lexer": "ipython3",
   "version": "3.8.1"
  },
  "toc": {
   "base_numbering": 1,
   "nav_menu": {},
   "number_sections": true,
   "sideBar": true,
   "skip_h1_title": false,
   "title_cell": "Table of Contents",
   "title_sidebar": "Contents",
   "toc_cell": false,
   "toc_position": {},
   "toc_section_display": true,
   "toc_window_display": true
  },
  "varInspector": {
   "cols": {
    "lenName": 16,
    "lenType": 16,
    "lenVar": 40
   },
   "kernels_config": {
    "python": {
     "delete_cmd_postfix": "",
     "delete_cmd_prefix": "del ",
     "library": "var_list.py",
     "varRefreshCmd": "print(var_dic_list())"
    },
    "r": {
     "delete_cmd_postfix": ") ",
     "delete_cmd_prefix": "rm(",
     "library": "var_list.r",
     "varRefreshCmd": "cat(var_dic_list()) "
    }
   },
   "types_to_exclude": [
    "module",
    "function",
    "builtin_function_or_method",
    "instance",
    "_Feature"
   ],
   "window_display": false
  }
 },
 "nbformat": 4,
 "nbformat_minor": 2
}
