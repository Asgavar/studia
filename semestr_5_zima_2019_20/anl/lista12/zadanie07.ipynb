{
 "cells": [
  {
   "cell_type": "code",
   "execution_count": 3,
   "metadata": {
    "ExecuteTime": {
     "end_time": "2020-01-21T10:48:13.449043Z",
     "start_time": "2020-01-21T10:48:13.097119Z"
    }
   },
   "outputs": [],
   "source": [
    "import matplotlib.pyplot as plt\n",
    "import numpy as np"
   ]
  },
  {
   "cell_type": "code",
   "execution_count": 27,
   "metadata": {
    "ExecuteTime": {
     "end_time": "2020-01-21T11:08:56.760218Z",
     "start_time": "2020-01-21T11:08:56.747853Z"
    }
   },
   "outputs": [],
   "source": [
    "f = lambda x: 1 / (1 + x**2)"
   ]
  },
  {
   "cell_type": "code",
   "execution_count": 33,
   "metadata": {
    "ExecuteTime": {
     "end_time": "2020-01-21T11:17:17.448247Z",
     "start_time": "2020-01-21T11:17:17.438545Z"
    }
   },
   "outputs": [],
   "source": [
    "X = np.linspace(-4, 4, 1_000)\n",
    "Y = f(X)\n",
    "H = 8\n",
    "\n",
    "PERFECT_ANSWER = 2 * np.arctan(4)"
   ]
  },
  {
   "cell_type": "code",
   "execution_count": 6,
   "metadata": {
    "ExecuteTime": {
     "end_time": "2020-01-21T10:48:29.483692Z",
     "start_time": "2020-01-21T10:48:29.275774Z"
    }
   },
   "outputs": [
    {
     "data": {
      "text/plain": [
       "[<matplotlib.lines.Line2D at 0x7f9cd285a7f0>]"
      ]
     },
     "execution_count": 6,
     "metadata": {},
     "output_type": "execute_result"
    },
    {
     "data": {
      "image/png": "[encoded data removed]",
      "text/plain": [
       "<Figure size 432x288 with 1 Axes>"
      ]
     },
     "metadata": {
      "needs_background": "light"
     },
     "output_type": "display_data"
    }
   ],
   "source": [
    "plt.plot(X, Y, color='orange')"
   ]
  },
  {
   "cell_type": "code",
   "execution_count": 29,
   "metadata": {
    "ExecuteTime": {
     "end_time": "2020-01-21T11:13:59.221380Z",
     "start_time": "2020-01-21T11:13:59.202199Z"
    }
   },
   "outputs": [
    {
     "data": {
      "text/plain": [
       "{2: array([-4.,  0.,  4.]),\n",
       " 4: array([-4., -2.,  0.,  2.,  4.]),\n",
       " 6: array([-4.        , -2.66666667, -1.33333333,  0.        ,  1.33333333,\n",
       "         2.66666667,  4.        ]),\n",
       " 8: array([-4., -3., -2., -1.,  0.,  1.,  2.,  3.,  4.]),\n",
       " 10: array([-4. , -3.2, -2.4, -1.6, -0.8,  0. ,  0.8,  1.6,  2.4,  3.2,  4. ])}"
      ]
     },
     "execution_count": 29,
     "metadata": {},
     "output_type": "execute_result"
    }
   ],
   "source": [
    "points_for_n = {\n",
    "    n: np.array([-4 + idx * 8 / n for idx in range(0, n+1)])\n",
    "    for n in [2, 4, 6, 8, 10]\n",
    "}\n",
    "\n",
    "xk = points_for_n\n",
    "points_for_n"
   ]
  },
  {
   "cell_type": "code",
   "execution_count": 28,
   "metadata": {
    "ExecuteTime": {
     "end_time": "2020-01-21T11:09:00.605141Z",
     "start_time": "2020-01-21T11:09:00.377819Z"
    }
   },
   "outputs": [
    {
     "data": {
      "image/png": "[encoded data removed]",
      "text/plain": [
       "<Figure size 432x288 with 1 Axes>"
      ]
     },
     "metadata": {
      "needs_background": "light"
     },
     "output_type": "display_data"
    }
   ],
   "source": [
    "plt.plot(X, Y, color='orange')\n",
    "for n in [4,]:\n",
    "    plt.scatter(points_for_n[n], f(points_for_n[n]))"
   ]
  },
  {
   "cell_type": "code",
   "execution_count": 36,
   "metadata": {
    "ExecuteTime": {
     "end_time": "2020-01-21T11:17:31.052109Z",
     "start_time": "2020-01-21T11:17:31.038351Z"
    }
   },
   "outputs": [],
   "source": [
    "poly2 = 1/3 * H * (f(xk[2][0]) + 4*f(xk[2][1]) + f(xk[2][2]))\n",
    "\n",
    "poly4 = 2/45 * H * (7 * f(xk[4][0]) + 32*(f(xk[4][1])) + 12*(f(xk[4][2])) + 7 * )"
   ]
  }
 ],
 "metadata": {
  "kernelspec": {
   "display_name": "Python 3",
   "language": "python",
   "name": "python3"
  },
  "language_info": {
   "codemirror_mode": {
    "name": "ipython",
    "version": 3
   },
   "file_extension": ".py",
   "mimetype": "text/x-python",
   "name": "python",
   "nbconvert_exporter": "python",
   "pygments_lexer": "ipython3",
   "version": "3.8.1"
  },
  "toc": {
   "base_numbering": 1,
   "nav_menu": {},
   "number_sections": true,
   "sideBar": true,
   "skip_h1_title": false,
   "title_cell": "Table of Contents",
   "title_sidebar": "Contents",
   "toc_cell": false,
   "toc_position": {},
   "toc_section_display": true,
   "toc_window_display": true
  },
  "varInspector": {
   "cols": {
    "lenName": 16,
    "lenType": 16,
    "lenVar": 40
   },
   "kernels_config": {
    "python": {
     "delete_cmd_postfix": "",
     "delete_cmd_prefix": "del ",
     "library": "var_list.py",
     "varRefreshCmd": "print(var_dic_list())"
    },
    "r": {
     "delete_cmd_postfix": ") ",
     "delete_cmd_prefix": "rm(",
     "library": "var_list.r",
     "varRefreshCmd": "cat(var_dic_list()) "
    }
   },
   "types_to_exclude": [
    "module",
    "function",
    "builtin_function_or_method",
    "instance",
    "_Feature"
   ],
   "window_display": false
  }
 },
 "nbformat": 4,
 "nbformat_minor": 2
}
