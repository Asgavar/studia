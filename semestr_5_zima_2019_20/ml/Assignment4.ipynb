{
 "cells": [
  {
   "cell_type": "markdown",
   "metadata": {
    "colab_type": "text",
    "id": "view-in-github"
   },
   "source": [
    "<a href=\"https://colab.research.google.com/github/janchorowski/ml_uwr/blob/fall2019/assignment4/Assignment4.ipynb\" target=\"_parent\"><img src=\"https://colab.research.google.com/assets/colab-badge.svg\" alt=\"Open In Colab\"/></a>"
   ]
  },
  {
   "cell_type": "markdown",
   "metadata": {
    "colab_type": "text",
    "id": "wWKlAIeLj21v"
   },
   "source": [
    "**Submission deadline:**\n",
    "* **Regular problems: last lab session before or on Monday, 13.01.2020**\n",
    "* **Bonus problems: Last lab during semester**\n",
    "\n",
    "**Points: 5 + 9 bonus points**\n",
    "\n",
    "Please note: some of the assignments are tedious or boring if you are already a NumPy ninja. The bonus problems were designed to give you a more satisfying alternative.\n",
    "\n",
    "## Heads Up!\n",
    "\n",
    "This assignment comes with starter code, but you are not forced to use it, as long as you execute all analysis demanded in the problems.\n",
    "\n",
    "## A note about plots!\n",
    "\n",
    "Plots are a way of communication. Just lke text, they can be paraphrased. You do not have to exactly reproducy my plots, but you must try to make suer yourp plots tell a similar story:\n",
    "- label axis\n",
    "- add titles\n",
    "- choose plot type properly\n",
    "- choose a color scale, limits, ticks\n",
    "\n",
    "so that you can describe what is happening!\n",
    "\n",
    "## Bugs?!\n",
    "\n",
    "Please submit Github PRs or email us about any problems with the notebook - we will try to correct them quickly. "
   ]
  },
  {
   "cell_type": "code",
   "execution_count": 94,
   "metadata": {
    "colab": {},
    "colab_type": "code",
    "id": "fdbcvRkik-qM"
   },
   "outputs": [],
   "source": [
    "# Standard IPython notebook imports\n",
    "%matplotlib inline\n",
    "\n",
    "import os\n",
    "\n",
    "from io import StringIO\n",
    "import itertools\n",
    "import httpimport\n",
    "import matplotlib.pyplot as plt\n",
    "import numpy as np\n",
    "import pandas as pd\n",
    "from tqdm import tqdm_notebook\n",
    "\n",
    "import scipy.stats as sstats\n",
    "import scipy.optimize as sopt\n",
    "\n",
    "import seaborn as sns\n",
    "\n",
    "import sklearn.datasets\n",
    "import sklearn.ensemble\n",
    "import sklearn.svm\n",
    "import sklearn.tree\n",
    "import sklearn.utils\n",
    "\n",
    "import cvxopt\n",
    "\n",
    "\n",
    "# In this way we can import functions straight from github\n",
    "with httpimport.github_repo('janchorowski', 'nn_assignments', \n",
    "                            module='common', branch='nn18'):\n",
    "     from common.plotting import plot_mat\n",
    "\n",
    "sns.set_style('whitegrid')"
   ]
  },
  {
   "cell_type": "markdown",
   "metadata": {
    "colab_type": "text",
    "id": "tmhgKqnsIfx8"
   },
   "source": [
    "\n",
    "# SVM Theory\n",
    "A linear SVM assigns points $x^{(i)}\\in\\mathbb{R}^n$ to one of two\n",
    "classes,  $y^{(i)}\\in\\{-1,1\\}$ using the decision rule:\n",
    "\n",
    "\\begin{equation}\n",
    "y = \\text{signum}(w^T x + b).\n",
    "\\end{equation}\n",
    "\n",
    "SVM training consists of finding weights $w\\in\\mathbb{R}^n$\n",
    "and bias $b\\in\\mathbb{R}$ that maximize the separation margin. This\n",
    "corresponds to solving the following quadratic optimization problem:\n",
    "\n",
    "\\begin{equation}\n",
    "\\begin{split}\n",
    "  \\min_{w,b,\\xi}  &\\frac{1}{2}w^Tw  + C\\sum_{i=1}^m \\xi_i  \\\\\n",
    "  \\text{s.t. } & y^{(i)}(w^T x^{(i)} + b) \\geq 1- \\xi_i\\;\\; \\forall_i \\\\\n",
    "  & \\xi_i \\geq 0 \\;\\; \\forall_i.\n",
    "\\end{split}\n",
    "\\end{equation}"
   ]
  },
  {
   "cell_type": "markdown",
   "metadata": {
    "colab_type": "text",
    "id": "lE81O301Ol-A"
   },
   "source": [
    "# Problem 1 [2p]\n",
    "\n",
    "Load the iris dataset. \n",
    "\n",
    "1. [1p] Using the `sklearn.svm.SVC` library train a linear SVM that\n",
    "separates the Virginica from the Versicolor class using the\n",
    "petal length and petal width features. Plot the obtained decision boundary and\n",
    "the support vectors (their locations and weights - coefficients $\\alpha$).\n",
    "\n",
    "2. [.5p] Now train a nonlinear SVM using the Gaussian kernel. Tune the parameetrs `C` and `gamma` (for the kernel) to reach maximum training accurracy. Plot the decision boundary and supprt vectors.\n",
    "\n",
    "3. [.5p] Answer the following questions:\n",
    "    - When the SVM is forced to maximally accurate on the train set, roughly how many support vectors do we get ?\n",
    "    - what is the relationship between the regularization constant `C` and the support vector weights `alpha`?\n",
    "  \n",
    "  "
   ]
  },
  {
   "cell_type": "code",
   "execution_count": 44,
   "metadata": {
    "colab": {
     "base_uri": "https://localhost:8080/",
     "height": 331
    },
    "colab_type": "code",
    "id": "vM8N5kEdOq3c",
    "outputId": "84ca3b92-fb16-427c-adaa-e6174e2e3318"
   },
   "outputs": [
    {
     "name": "stdout",
     "output_type": "stream",
     "text": [
      "Features:  ['sepal length (cm)', 'sepal width (cm)', 'petal length (cm)', 'petal width (cm)']\n",
      "Targets:  ['setosa' 'versicolor' 'virginica']\n"
     ]
    },
    {
     "data": {
      "text/plain": [
       "Text(0, 0.5, 'petal_width')"
      ]
     },
     "execution_count": 44,
     "metadata": {},
     "output_type": "execute_result"
    },
    {
     "data": {
      "image/png": "[encoded data removed]",
      "text/plain": [
       "<Figure size 432x288 with 1 Axes>"
      ]
     },
     "metadata": {},
     "output_type": "display_data"
    }
   ],
   "source": [
    "# load iris, extract petal_length and petal_width of versicolors and virginicas\n",
    "\n",
    "iris = sklearn.datasets.load_iris()\n",
    "print('Features: ', iris.feature_names)\n",
    "print('Targets: ', iris.target_names)\n",
    "petal_length = iris.data[:,iris.feature_names.index('petal length (cm)')]\n",
    "petal_width = iris.data[:, iris.feature_names.index('petal width (cm)')]\n",
    "\n",
    "IrisX = np.array(iris.data.T)\n",
    "IrisX = IrisX[:, iris.target!=0]\n",
    "\n",
    "IrisX2F = np.vstack([petal_length, petal_width])\n",
    "IrisX2F = IrisX2F[:, iris.target!=0]\n",
    "# Set versicolor=0 and virginia=1\n",
    "IrisY = (iris.target[iris.target!=0]-1).reshape(1,-1).astype(np.float64)\n",
    "\n",
    "plt.scatter(IrisX2F[0,:], IrisX2F[1,:], c=IrisY.ravel(),\n",
    "            cmap='spring', edgecolors='k')\n",
    "plt.xlabel('petal_length')\n",
    "plt.ylabel('petal_width')"
   ]
  },
  {
   "cell_type": "code",
   "execution_count": 28,
   "metadata": {
    "colab": {
     "base_uri": "https://localhost:8080/",
     "height": 34
    },
    "colab_type": "code",
    "id": "OOtqTRkkOxH5",
    "outputId": "2d2475ba-a852-4cad-b63c-2be909dc42aa"
   },
   "outputs": [
    {
     "name": "stdout",
     "output_type": "stream",
     "text": [
      "libsvm error rate: 0.050000\n"
     ]
    }
   ],
   "source": [
    "#\n",
    "# Fit a linear SVM using libsvm\n",
    "# Use parameter C=10 to be able to compare plots and to have a reference in problem 2\n",
    "#\n",
    "\n",
    "svm_model = sklearn.svm.SVC(C=10, kernel='linear')\n",
    "svm_model.fit(IrisX2F.T, IrisY.T.ravel())\n",
    "\n",
    "print(\"libsvm error rate: %f\" % ((svm_model.predict(IrisX2F.T)!=IrisY).mean(),))"
   ]
  },
  {
   "cell_type": "code",
   "execution_count": 31,
   "metadata": {
    "colab": {
     "base_uri": "https://localhost:8080/",
     "height": 313
    },
    "colab_type": "code",
    "id": "bLKwZXIPO3C1",
    "outputId": "7b00578d-9433-4b3f-e943-a2f00f5a7553"
   },
   "outputs": [
    {
     "data": {
      "text/plain": [
       "Text(0.5, 1.0, 'Decision boundary found by libsvm')"
      ]
     },
     "execution_count": 31,
     "metadata": {},
     "output_type": "execute_result"
    },
    {
     "data": {
      "image/png": "[encoded data removed]",
      "text/plain": [
       "<Figure size 432x288 with 1 Axes>"
      ]
     },
     "metadata": {},
     "output_type": "display_data"
    }
   ],
   "source": [
    "#\n",
    "# Plot the decision boundary\n",
    "#\n",
    "\n",
    "petal_lengths, petal_widths = np.meshgrid(np.linspace(IrisX2F[0,:].min(), IrisX2F[0,:].max(), 100),\n",
    "                                          np.linspace(IrisX2F[1,:].min(), IrisX2F[1,:].max(), 100))\n",
    "\n",
    "IrisXGrid = np.vstack([petal_lengths.ravel(), petal_widths.ravel()])\n",
    "predictions_Grid = svm_model.predict(IrisXGrid.T)\n",
    "\n",
    "plt.contourf(petal_lengths, petal_widths, predictions_Grid.reshape(petal_lengths.shape), cmap='spring')\n",
    "\n",
    "plt.scatter(IrisX2F[0,:], IrisX2F[1,:], c=IrisY.ravel(),\n",
    "            cmap='spring', edgecolors='k')\n",
    "\n",
    "plt.xlabel('petal_length')\n",
    "plt.ylabel('petal_width')\n",
    "plt.title('Decision boundary found by libsvm')"
   ]
  },
  {
   "cell_type": "code",
   "execution_count": 43,
   "metadata": {
    "colab": {
     "base_uri": "https://localhost:8080/",
     "height": 313
    },
    "colab_type": "code",
    "id": "OeSefL1jPP7h",
    "outputId": "498d2fa9-2b99-4717-fec2-42081d0e882a"
   },
   "outputs": [
    {
     "name": "stdout",
     "output_type": "stream",
     "text": [
      "[[-10.         -10.         -10.         -10.         -10.\n",
      "  -10.          -9.9431904   10.          10.           6.62056728\n",
      "   10.           7.93677315  10.           5.38584997  10.        ]]\n"
     ]
    },
    {
     "data": {
      "text/plain": [
       "Text(0.5, 1.0, 'Decision boundary found by libsvm')"
      ]
     },
     "execution_count": 43,
     "metadata": {},
     "output_type": "execute_result"
    },
    {
     "data": {
      "image/png": "[encoded data removed]",
      "text/plain": [
       "<Figure size 432x288 with 1 Axes>"
      ]
     },
     "metadata": {},
     "output_type": "display_data"
    }
   ],
   "source": [
    "#\n",
    "# Plot the decision boundary and the support vectors.\n",
    "#\n",
    "# You can extract the indices of support vectors and their weights from fielfs of the \n",
    "# svm object. Display the loaction of support vectors and their weights (by changing the \n",
    "# size in the scatterplot)\n",
    "\n",
    "support_vector_indices = svm_model.support_\n",
    "support_vector_coefficients = svm_model.dual_coef_\n",
    "print(support_vector_coefficients)\n",
    "\n",
    "plt.contourf(petal_lengths, petal_widths, predictions_Grid.reshape(petal_lengths.shape), cmap='spring')\n",
    "plt.scatter(*IrisX2F[:, support_vector_indices],\n",
    "            c=IrisY.ravel()[support_vector_indices],\n",
    "            s=support_vector_coefficients**2,\n",
    "            cmap='spring',\n",
    "            edgecolors='k')\n",
    "\n",
    "plt.xlabel('petal_length')\n",
    "plt.ylabel('petal_width')\n",
    "plt.title('Decision boundary found by libsvm')"
   ]
  },
  {
   "cell_type": "code",
   "execution_count": 93,
   "metadata": {
    "colab": {
     "base_uri": "https://localhost:8080/",
     "height": 330
    },
    "colab_type": "code",
    "id": "F-f1CDrmVlcy",
    "outputId": "00546348-08f3-4482-8ba8-7bfe0b1050e7"
   },
   "outputs": [
    {
     "name": "stdout",
     "output_type": "stream",
     "text": [
      "libsvm error rate: 0.01\n",
      "Optimal C = 99\n",
      "Optimal gamma = 99\n"
     ]
    },
    {
     "data": {
      "text/plain": [
       "<matplotlib.collections.PathCollection at 0x7f4425a113d0>"
      ]
     },
     "execution_count": 93,
     "metadata": {},
     "output_type": "execute_result"
    },
    {
     "data": {
      "image/png": "[encoded data removed]",
      "text/plain": [
       "<Figure size 432x288 with 1 Axes>"
      ]
     },
     "metadata": {},
     "output_type": "display_data"
    }
   ],
   "source": [
    "## # Fit a nonlinear SVM with a Gaussian kernel using libsvm.\n",
    "# Optimize the SVM to make \n",
    "#\n",
    "\n",
    "best_error = 1\n",
    "optimal_C = -42\n",
    "optimal_gamma = -42\n",
    "for gamma in range(1, 100):\n",
    "    for C in range(1, 100):\n",
    "        svm_gauss_model = sklearn.svm.SVC(kernel='rbf', C=C, gamma=gamma)\n",
    "        svm_gauss_model.fit(IrisX2F.T, IrisY.T.ravel())\n",
    "        if (new_best := (svm_gauss_model.predict(IrisX2F.T)!=IrisY).mean()) <= best_error:\n",
    "            best_error = new_best\n",
    "            optimal_C = C\n",
    "            optimal_gamma = gamma\n",
    "            #if new_best == 0.01:\n",
    "            #    print(f'Found optimal values, C = {C}, gamma = {gamma}')\n",
    "print(f'libsvm error rate: {best_error}')\n",
    "print(f'Optimal C = {optimal_C}')\n",
    "print(f'Optimal gamma = {optimal_gamma}')\n",
    "\n",
    "predictions = svm_gauss_model.predict(IrisXGrid.T)\n",
    "\n",
    "plt.xlabel('petal_length')\n",
    "plt.ylabel('petal_width')\n",
    "plt.title('Decision boundary found by libsvm')\n",
    "\n",
    "support_vector_indices = svm_gauss_model.support_\n",
    "support_vector_coefficients = svm_gauss_model.dual_coef_\n",
    "\n",
    "plt.contourf(petal_lengths, petal_widths, predictions.reshape(petal_lengths.shape), cmap='spring')\n",
    "plt.scatter(*IrisX2F[:, support_vector_indices],\n",
    "            c=IrisY.ravel()[support_vector_indices],\n",
    "            s=abs(support_vector_coefficients),\n",
    "            cmap='spring',\n",
    "            edgecolors='k')"
   ]
  },
  {
   "cell_type": "markdown",
   "metadata": {
    "colab_type": "text",
    "id": "talvZZDQP0YI"
   },
   "source": [
    "# Problem 2 [1p]\n",
    "\n",
    "Reimplement the linear SVM using the use `cvxopt.solvers.qp`\n",
    "Quadratic Programming (QP) solver. You will need to define the matrices\n",
    "that define the problem. Compare the obtained solutions. Extract the\n",
    "support vectors from the LIBSVM solution and plot the support vectors.\n",
    "\n",
    "The `cvxopt.solvers.qp` solves the following optimization problem: \n",
    "\n",
    "\\begin{align}\n",
    "\\text{minimize over } x \\text{: }& \\frac{1}{2} x^T P x + q^T x \\\\\n",
    "\\text{subject to: } & Gx \\leq h \\\\\n",
    "& Ax = b\n",
    "\\end{align}\n",
    "\n",
    "To solve the SVM problem you need to encode the weights $W$, biases $b$, and slack variables $\\xi$ as elements of the vector $x$, then properly fill the matrices and vectors $P$, $q$, $G$, $h$. We can ignore setting the $A$ and $b$ parametrs, since there are no linear constraints."
   ]
  },
  {
   "cell_type": "code",
   "execution_count": 0,
   "metadata": {
    "colab": {
     "base_uri": "https://localhost:8080/",
     "height": 272
    },
    "colab_type": "code",
    "id": "V-iUFeJOP3Tb",
    "outputId": "0f3250a4-957d-412a-8b3f-03f48053f93e"
   },
   "outputs": [
    {
     "name": "stdout",
     "output_type": "stream",
     "text": [
      "     pcost       dcost       gap    pres   dres\n",
      " 0: -8.2045e+03  4.6654e+03  2e+04  2e+01  3e+00\n",
      " 1:  5.3426e+01 -5.8951e+02  3e+03  2e+00  4e-01\n",
      " 2:  1.7058e+02 -1.9137e+01  4e+02  3e-01  5e-02\n",
      " 3:  1.4063e+02  7.5166e+01  1e+02  7e-02  1e-02\n",
      " 4:  1.3820e+02  9.8722e+01  6e+01  3e-02  5e-03\n",
      " 5:  1.4016e+02  1.1207e+02  3e+01  4e-03  8e-04\n",
      " 6:  1.3507e+02  1.1797e+02  2e+01  1e-03  2e-04\n",
      " 7:  1.2551e+02  1.2356e+02  2e+00  2e-04  3e-05\n",
      " 8:  1.2445e+02  1.2440e+02  5e-02  4e-06  6e-07\n",
      " 9:  1.2442e+02  1.2442e+02  1e-03  9e-08  2e-08\n",
      "10:  1.2442e+02  1.2442e+02  2e-05  1e-09  1e-10\n",
      "Optimal solution found.\n",
      "W [[2.75844069 4.827271  ]] Wlibsvm [[2.75873306 4.82861713]]\n",
      "b [-21.2054472] blibsvm [-21.20914737]\n"
     ]
    }
   ],
   "source": [
    "#\n",
    "# Now solve the SVM using the QP solver\n",
    "#\n",
    "\n",
    "n, m = IrisX2F.shape\n",
    "C=10.0\n",
    "\n",
    "P = np.zeros((n+1+m, n+1+m)) #w, bias, xi\n",
    "q = np.zeros((n+1+m,1)) \n",
    "G = np.zeros((2*m, n+1+m)) # we have two constrains for each data point: \n",
    "                           # that the margin is equal to 1-xi\n",
    "                           # and that xi is nonnegative\n",
    "h = np.zeros((2*m,1))\n",
    "#\n",
    "# TODO: fill in P, q, G, h\n",
    "#\n",
    "\n",
    "TODO\n",
    "\n",
    "#\n",
    "# Now run the solver\n",
    "#\n",
    "ret  = cvxopt.solvers.qp(cvxopt.matrix(P), cvxopt.matrix(q), \n",
    "                         cvxopt.matrix(G), cvxopt.matrix(h), )\n",
    "\n",
    "ret = np.array(ret['x'])\n",
    "\n",
    "#\n",
    "# extract the weights and biases\n",
    "#\n",
    "W = ret[:n].reshape(-1,1)\n",
    "b = ret[n]\n",
    "\n",
    "#\n",
    "# Extract the weight and bias from libsvm for comparison\n",
    "#\n",
    "Wlibsvm = TODO\n",
    "blibsvm = TODO\n",
    "\n",
    "print('W', W.T, 'Wlibsvm', Wlibsvm)\n",
    "print('b', b, 'blibsvm', blibsvm)"
   ]
  },
  {
   "cell_type": "markdown",
   "metadata": {
    "colab_type": "text",
    "id": "ajNZZ9B2P657"
   },
   "source": [
    "# Problem 3 [2p]\n",
    "\n",
    "Repeat 100 bootstrap experiments to establish the effect of constant $C$ on SVM.\n",
    "\n",
    "For each experiment do the following:\n",
    "\n",
    "1. Sample (with replacement) a bootstrap dataset equal in size to the\n",
    "    training dataset. This will be this experiment's training dataset.\n",
    "2. Prepare the experiment's testing dataset by using samples not\n",
    "    inluded in the bootstrap dataset.\n",
    "3. For all $C$ from the set $\\{10^{-4}, 10^{-3.5}, 10^{-3.}, \\ldots, 10^{6}\\}$\n",
    "    fit a nonlinear SVM (Gaussian kernel, called \\texttt{rbf} in\n",
    "    LIBSVM using the default $\\gamma$) and record the training and\n",
    "    testing errors.\n",
    "\n",
    "Analyze a box plot of errors as a function of $C$. Can you see its\n",
    "influence on the training and testing error, as well as on the\n",
    "testing error variability? \n",
    "\n",
    "**Indicate regions of overfitting and underfitting.**\n",
    "\n"
   ]
  },
  {
   "cell_type": "code",
   "execution_count": 125,
   "metadata": {
    "colab": {
     "base_uri": "https://localhost:8080/",
     "height": 380
    },
    "colab_type": "code",
    "id": "_zztDr_6QHH9",
    "outputId": "2db9acac-5377-4d07-821a-c62a69a8b00a"
   },
   "outputs": [
    {
     "data": {
      "image/png": "[encoded data removed]",
      "text/plain": [
       "<Figure size 720x360 with 2 Axes>"
      ]
     },
     "metadata": {},
     "output_type": "display_data"
    }
   ],
   "source": [
    "res = []\n",
    "for rep in range(100):\n",
    "    bootstrap_sel = sklearn.utils.resample(\n",
    "        range(IrisX.shape[1]), n_samples=IrisX.shape[1], replace=True)\n",
    "    test_sel = np.array([i for i in range(IrisX.shape[1]) if i not in bootstrap_sel])\n",
    "\n",
    "    bootstrap_IrisX = IrisX[:,bootstrap_sel]\n",
    "    bootstrap_IrisY = IrisY[:,bootstrap_sel]\n",
    "    \n",
    "    test_IrisX = IrisX[:,test_sel]\n",
    "    test_IrisY = IrisY[:,test_sel]\n",
    "    \n",
    "    for Cexponent in np.arange(-4, 6.0001, 0.5):\n",
    "        C = 10.0**Cexponent\n",
    "        svm_model = sklearn.svm.SVC(kernel='rbf', C=C, gamma='auto')\n",
    "        svm_model.fit(bootstrap_IrisX.T, bootstrap_IrisY.T.ravel())\n",
    "        train_acc = (svm_model.predict(bootstrap_IrisX.T) == bootstrap_IrisY.T.ravel()).mean()\n",
    "        test_acc = (svm_model.predict(test_IrisX.T) == test_IrisY.T.ravel()).mean()\n",
    "        \n",
    "        res.append(dict(Cexponent=Cexponent, err=1-test_acc, subset='test'))\n",
    "        res.append(dict(Cexponent=Cexponent, err=1-train_acc, subset='train'))\n",
    "\n",
    "res = pd.DataFrame(res)\n",
    "chart = sns.catplot(kind='box', x='Cexponent', y='err', col='subset', \n",
    "            color='blue', data=res)\n",
    "chart.set_xticklabels(rotation=45)\n",
    "None"
   ]
  },
  {
   "cell_type": "markdown",
   "metadata": {
    "colab_type": "text",
    "id": "4sOvoxwbTOHG"
   },
   "source": [
    "# Problem 4 [3p bonus]\n",
    "\n",
    "Implement a nonlinear SVM by solving the dual problem using the Quadratic Programming solver. Compare results with LIBSVM.\n",
    "\n",
    "Please see [page 20 if CS229 lecture notes](http://cs229.stanford.edu/notes/cs229-notes3.pdf) for problem formulation."
   ]
  },
  {
   "cell_type": "markdown",
   "metadata": {
    "colab_type": "text",
    "id": "6xEBWiIEUHnw"
   },
   "source": [
    "# Problem 5 [2p bonus]\n",
    "Compare two ways to implement a multi-class\n",
    "SVM: by training ``1-vs-1'' classifier for each class combination,\n",
    "and by training a ``1-vs-rest'' classifier for each clas. See\n",
    "http://www.csie.ntu.edu.tw/\\~cjlin/papers/multisvm.pdf for\n",
    "details.\n"
   ]
  },
  {
   "cell_type": "markdown",
   "metadata": {
    "colab_type": "text",
    "id": "ph9M-pJPUdrV"
   },
   "source": [
    "# Problem 6 [4p bonus]\n",
    "\n",
    "Implement a Kernelized linear regression. Train it on Iris using a Gaussian kernel. Compare to the non-linear SVM."
   ]
  },
  {
   "cell_type": "code",
   "execution_count": 0,
   "metadata": {
    "colab": {},
    "colab_type": "code",
    "id": "QXr38Y95UeVo"
   },
   "outputs": [],
   "source": []
  }
 ],
 "metadata": {
  "colab": {
   "collapsed_sections": [],
   "include_colab_link": true,
   "name": "Assignment4.ipynb",
   "provenance": [],
   "toc_visible": true
  },
  "kernelspec": {
   "display_name": "Python 3",
   "language": "python",
   "name": "python3"
  },
  "language_info": {
   "codemirror_mode": {
    "name": "ipython",
    "version": 3
   },
   "file_extension": ".py",
   "mimetype": "text/x-python",
   "name": "python",
   "nbconvert_exporter": "python",
   "pygments_lexer": "ipython3",
   "version": "3.8.1"
  },
  "toc": {
   "base_numbering": 1,
   "nav_menu": {},
   "number_sections": true,
   "sideBar": true,
   "skip_h1_title": false,
   "title_cell": "Table of Contents",
   "title_sidebar": "Contents",
   "toc_cell": false,
   "toc_position": {},
   "toc_section_display": true,
   "toc_window_display": true
  },
  "varInspector": {
   "cols": {
    "lenName": 16,
    "lenType": 16,
    "lenVar": 40
   },
   "kernels_config": {
    "python": {
     "delete_cmd_postfix": "",
     "delete_cmd_prefix": "del ",
     "library": "var_list.py",
     "varRefreshCmd": "print(var_dic_list())"
    },
    "r": {
     "delete_cmd_postfix": ") ",
     "delete_cmd_prefix": "rm(",
     "library": "var_list.r",
     "varRefreshCmd": "cat(var_dic_list()) "
    }
   },
   "types_to_exclude": [
    "module",
    "function",
    "builtin_function_or_method",
    "instance",
    "_Feature"
   ],
   "window_display": false
  }
 },
 "nbformat": 4,
 "nbformat_minor": 1
}
