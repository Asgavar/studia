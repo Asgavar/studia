{
 "cells": [
  {
   "cell_type": "markdown",
   "metadata": {},
   "source": [
    "# Politicians & celebrities\n"
   ]
  },
  {
   "cell_type": "markdown",
   "metadata": {},
   "source": [
    "Decide if given tweets are by politicians, celebrities, biz&tech leaders or by internet platforms."
   ]
  },
  {
   "cell_type": "code",
   "execution_count": 1,
   "metadata": {
    "ExecuteTime": {
     "end_time": "2020-01-12T22:20:26.378174Z",
     "start_time": "2020-01-12T22:20:25.472746Z"
    }
   },
   "outputs": [],
   "source": [
    "import csv\n",
    "\n",
    "import pandas as pd\n",
    "import sklearn.feature_extraction.text\n",
    "import sklearn.model_selection\n",
    "import sklearn.naive_bayes"
   ]
  },
  {
   "cell_type": "code",
   "execution_count": 2,
   "metadata": {
    "ExecuteTime": {
     "end_time": "2020-01-12T22:20:58.780119Z",
     "start_time": "2020-01-12T22:20:58.685367Z"
    }
   },
   "outputs": [],
   "source": [
    "data = pd.read_csv('contest_tweets.csv', index_col=0)"
   ]
  },
  {
   "cell_type": "code",
   "execution_count": 3,
   "metadata": {
    "ExecuteTime": {
     "end_time": "2020-01-12T22:20:59.748692Z",
     "start_time": "2020-01-12T22:20:59.723337Z"
    }
   },
   "outputs": [
    {
     "data": {
      "text/html": [
       "<div>\n",
       "<style scoped>\n",
       "    .dataframe tbody tr th:only-of-type {\n",
       "        vertical-align: middle;\n",
       "    }\n",
       "\n",
       "    .dataframe tbody tr th {\n",
       "        vertical-align: top;\n",
       "    }\n",
       "\n",
       "    .dataframe thead th {\n",
       "        text-align: right;\n",
       "    }\n",
       "</style>\n",
       "<table border=\"1\" class=\"dataframe\">\n",
       "  <thead>\n",
       "    <tr style=\"text-align: right;\">\n",
       "      <th></th>\n",
       "      <th>text</th>\n",
       "      <th>handle</th>\n",
       "      <th>target</th>\n",
       "    </tr>\n",
       "  </thead>\n",
       "  <tbody>\n",
       "    <tr>\n",
       "      <th>0</th>\n",
       "      <td>“The case for learned index structures” - repl...</td>\n",
       "      <td>benhamner</td>\n",
       "      <td>biz&amp;tech</td>\n",
       "    </tr>\n",
       "    <tr>\n",
       "      <th>1</th>\n",
       "      <td>@Smerity Lock you in a black box with a window...</td>\n",
       "      <td>benhamner</td>\n",
       "      <td>biz&amp;tech</td>\n",
       "    </tr>\n",
       "    <tr>\n",
       "      <th>2</th>\n",
       "      <td>What policy outcomes are you aiming to achieve...</td>\n",
       "      <td>benhamner</td>\n",
       "      <td>biz&amp;tech</td>\n",
       "    </tr>\n",
       "    <tr>\n",
       "      <th>3</th>\n",
       "      <td>“Machine learning for systems and systems for ...</td>\n",
       "      <td>benhamner</td>\n",
       "      <td>biz&amp;tech</td>\n",
       "    </tr>\n",
       "    <tr>\n",
       "      <th>4</th>\n",
       "      <td>From the number of talks @goodfellow_ian’s giv...</td>\n",
       "      <td>benhamner</td>\n",
       "      <td>biz&amp;tech</td>\n",
       "    </tr>\n",
       "    <tr>\n",
       "      <th>...</th>\n",
       "      <td>...</td>\n",
       "      <td>...</td>\n",
       "      <td>...</td>\n",
       "    </tr>\n",
       "    <tr>\n",
       "      <th>64501</th>\n",
       "      <td>Life couldn't be better right now. 😊</td>\n",
       "      <td>ddlovato</td>\n",
       "      <td>celebrity</td>\n",
       "    </tr>\n",
       "    <tr>\n",
       "      <th>64502</th>\n",
       "      <td>First Monday back in action. I'd say 21.6 mile...</td>\n",
       "      <td>ddlovato</td>\n",
       "      <td>celebrity</td>\n",
       "    </tr>\n",
       "    <tr>\n",
       "      <th>64503</th>\n",
       "      <td>Crime shows, buddy, snuggles = the perfect Sun...</td>\n",
       "      <td>ddlovato</td>\n",
       "      <td>celebrity</td>\n",
       "    </tr>\n",
       "    <tr>\n",
       "      <th>64504</th>\n",
       "      <td>❄️ http://t.co/sHCFdPpGPa</td>\n",
       "      <td>ddlovato</td>\n",
       "      <td>celebrity</td>\n",
       "    </tr>\n",
       "    <tr>\n",
       "      <th>64505</th>\n",
       "      <td>❤️❄️✈️ http://t.co/ixmB5lv17Z</td>\n",
       "      <td>ddlovato</td>\n",
       "      <td>celebrity</td>\n",
       "    </tr>\n",
       "  </tbody>\n",
       "</table>\n",
       "<p>32026 rows × 3 columns</p>\n",
       "</div>"
      ],
      "text/plain": [
       "                                                    text     handle     target\n",
       "0      “The case for learned index structures” - repl...  benhamner   biz&tech\n",
       "1      @Smerity Lock you in a black box with a window...  benhamner   biz&tech\n",
       "2      What policy outcomes are you aiming to achieve...  benhamner   biz&tech\n",
       "3      “Machine learning for systems and systems for ...  benhamner   biz&tech\n",
       "4      From the number of talks @goodfellow_ian’s giv...  benhamner   biz&tech\n",
       "...                                                  ...        ...        ...\n",
       "64501               Life couldn't be better right now. 😊   ddlovato  celebrity\n",
       "64502  First Monday back in action. I'd say 21.6 mile...   ddlovato  celebrity\n",
       "64503  Crime shows, buddy, snuggles = the perfect Sun...   ddlovato  celebrity\n",
       "64504                          ❄️ http://t.co/sHCFdPpGPa   ddlovato  celebrity\n",
       "64505                      ❤️❄️✈️ http://t.co/ixmB5lv17Z   ddlovato  celebrity\n",
       "\n",
       "[32026 rows x 3 columns]"
      ]
     },
     "execution_count": 3,
     "metadata": {},
     "output_type": "execute_result"
    }
   ],
   "source": [
    "data"
   ]
  },
  {
   "cell_type": "code",
   "execution_count": 4,
   "metadata": {
    "ExecuteTime": {
     "end_time": "2020-01-12T22:21:05.454631Z",
     "start_time": "2020-01-12T22:21:05.448303Z"
    }
   },
   "outputs": [],
   "source": [
    "X, Y = data.iloc[:, 0], data.iloc[:, -1]"
   ]
  },
  {
   "cell_type": "code",
   "execution_count": 5,
   "metadata": {
    "ExecuteTime": {
     "end_time": "2020-01-12T22:21:07.785738Z",
     "start_time": "2020-01-12T22:21:07.776155Z"
    }
   },
   "outputs": [
    {
     "data": {
      "text/plain": [
       "(0        “The case for learned index structures” - repl...\n",
       " 1        @Smerity Lock you in a black box with a window...\n",
       " 2        What policy outcomes are you aiming to achieve...\n",
       " 3        “Machine learning for systems and systems for ...\n",
       " 4        From the number of talks @goodfellow_ian’s giv...\n",
       "                                ...                        \n",
       " 64501                 Life couldn't be better right now. 😊\n",
       " 64502    First Monday back in action. I'd say 21.6 mile...\n",
       " 64503    Crime shows, buddy, snuggles = the perfect Sun...\n",
       " 64504                            ❄️ http://t.co/sHCFdPpGPa\n",
       " 64505                        ❤️❄️✈️ http://t.co/ixmB5lv17Z\n",
       " Name: text, Length: 32026, dtype: object, 0         biz&tech\n",
       " 1         biz&tech\n",
       " 2         biz&tech\n",
       " 3         biz&tech\n",
       " 4         biz&tech\n",
       "            ...    \n",
       " 64501    celebrity\n",
       " 64502    celebrity\n",
       " 64503    celebrity\n",
       " 64504    celebrity\n",
       " 64505    celebrity\n",
       " Name: target, Length: 32026, dtype: object)"
      ]
     },
     "execution_count": 5,
     "metadata": {},
     "output_type": "execute_result"
    }
   ],
   "source": [
    "X, Y"
   ]
  },
  {
   "cell_type": "code",
   "execution_count": 6,
   "metadata": {
    "ExecuteTime": {
     "end_time": "2020-01-12T22:21:08.894718Z",
     "start_time": "2020-01-12T22:21:08.877024Z"
    }
   },
   "outputs": [],
   "source": [
    "train_X, test_X, train_Y, test_Y = sklearn.model_selection.train_test_split(\n",
    "    X, Y, test_size=0.25)"
   ]
  },
  {
   "cell_type": "code",
   "execution_count": 7,
   "metadata": {
    "ExecuteTime": {
     "end_time": "2020-01-12T22:21:12.230583Z",
     "start_time": "2020-01-12T22:21:12.179950Z"
    }
   },
   "outputs": [
    {
     "data": {
      "text/plain": [
       "(12424,)"
      ]
     },
     "execution_count": 7,
     "metadata": {},
     "output_type": "execute_result"
    }
   ],
   "source": [
    "question = pd.read_csv('contest_testset.csv', index_col=0)['text'].values\n",
    "question.shape"
   ]
  },
  {
   "cell_type": "markdown",
   "metadata": {},
   "source": [
    "## A simplest possible Naive Bayes"
   ]
  },
  {
   "cell_type": "code",
   "execution_count": 107,
   "metadata": {
    "ExecuteTime": {
     "end_time": "2020-01-12T22:48:01.091308Z",
     "start_time": "2020-01-12T22:48:01.087188Z"
    }
   },
   "outputs": [],
   "source": [
    "TRAINING_X, TRAINING_Y = X, Y"
   ]
  },
  {
   "cell_type": "code",
   "execution_count": 9,
   "metadata": {
    "ExecuteTime": {
     "end_time": "2020-01-12T22:21:15.030755Z",
     "start_time": "2020-01-12T22:21:15.020201Z"
    }
   },
   "outputs": [],
   "source": [
    "simplest_vectorizer = sklearn.feature_extraction.text.CountVectorizer()"
   ]
  },
  {
   "cell_type": "code",
   "execution_count": 10,
   "metadata": {
    "ExecuteTime": {
     "end_time": "2020-01-12T22:21:16.534512Z",
     "start_time": "2020-01-12T22:21:15.623862Z"
    },
    "scrolled": true
   },
   "outputs": [],
   "source": [
    "simplest_word_vector = simplest_vectorizer.fit_transform(TRAINING_X)"
   ]
  },
  {
   "cell_type": "code",
   "execution_count": 11,
   "metadata": {
    "ExecuteTime": {
     "end_time": "2020-01-12T22:21:20.545909Z",
     "start_time": "2020-01-12T22:21:20.420481Z"
    }
   },
   "outputs": [
    {
     "data": {
      "text/plain": [
       "['00',\n",
       " '000',\n",
       " '000km',\n",
       " '000s',\n",
       " '000x',\n",
       " '001',\n",
       " '002',\n",
       " '003',\n",
       " '004',\n",
       " '005',\n",
       " '006',\n",
       " '007',\n",
       " '007cigarjoe',\n",
       " '008',\n",
       " '009',\n",
       " '00a',\n",
       " '00c5moz4hc',\n",
       " '00gnh9nlet',\n",
       " '00gqyrkxuc',\n",
       " '00p',\n",
       " '00pm',\n",
       " '00tamznzez',\n",
       " '00z9tnhpra',\n",
       " '01',\n",
       " '010',\n",
       " '011',\n",
       " '012',\n",
       " '013',\n",
       " '014',\n",
       " '015',\n",
       " '01am',\n",
       " '01aqikgg',\n",
       " '01azsbwzwq',\n",
       " '01gmbwza',\n",
       " '01lm5ct5qv',\n",
       " '01pm',\n",
       " '01qnthblfq',\n",
       " '01qnthtmwy',\n",
       " '01sfi7gqus',\n",
       " '01wes',\n",
       " '01x5elmlm2',\n",
       " '01y5cdizjm',\n",
       " '01zn9ui',\n",
       " '02',\n",
       " '025bly9i0q',\n",
       " '0279xcscce',\n",
       " '02a29xtebt',\n",
       " '02cxehbvvi',\n",
       " '02gufwr4c7',\n",
       " '02nmqn3znq',\n",
       " '02pewzeehr',\n",
       " '03',\n",
       " '032c',\n",
       " '032yv6f',\n",
       " '03b9y1lhqf',\n",
       " '03h7uybzjg',\n",
       " '03kftbjyyg',\n",
       " '03zdchczml',\n",
       " '04',\n",
       " '04aewlx8gf',\n",
       " '04aqlinszv',\n",
       " '04dzntypwg',\n",
       " '04fehtxvfm',\n",
       " '04haprjhlj',\n",
       " '04i0itjhdy',\n",
       " '04pw1wrplw',\n",
       " '04qqpgylt7',\n",
       " '04yqg5w2su',\n",
       " '05',\n",
       " '05jdlouyop',\n",
       " '05jet1tz6h',\n",
       " '05k2kzdtvo',\n",
       " '05mrpp2g',\n",
       " '05ny0wjhkl',\n",
       " '05sjurjfbf',\n",
       " '05uftluzkr',\n",
       " '05xomtttxe',\n",
       " '05xwap3fmk',\n",
       " '06',\n",
       " '063keauoff',\n",
       " '06a7phesnm',\n",
       " '06pgpxme1k',\n",
       " '078c0wvzxq',\n",
       " '07dli5e6zg',\n",
       " '07hwyljoy8',\n",
       " '07ivqbd0cz',\n",
       " '07ldw7zg',\n",
       " '07p4dhmx',\n",
       " '07rquaresma',\n",
       " '07trstp590',\n",
       " '083ikudwmq',\n",
       " '086j77qy58',\n",
       " '087',\n",
       " '088l9l2jd1',\n",
       " '08dyflqdsr',\n",
       " '08evo1f58i',\n",
       " '08i1prcsam',\n",
       " '08kqajsltb',\n",
       " '08mmo3zipy',\n",
       " '08ndffsdyy',\n",
       " '08v8usuapq',\n",
       " '08xkebd8be',\n",
       " '09',\n",
       " '09bpa6f9ne',\n",
       " '09ebu23wia',\n",
       " '09htbbgphf',\n",
       " '09njyxikff',\n",
       " '0_0',\n",
       " '0a02gajrui',\n",
       " '0a2p3jnfcx',\n",
       " '0ac3yxxigv',\n",
       " '0advx6kdd0',\n",
       " '0aexhqifw5',\n",
       " '0age8ud1qx',\n",
       " '0alj4ia9cs',\n",
       " '0aluntrw3y',\n",
       " '0amvy5orut',\n",
       " '0angxb2bri',\n",
       " '0axygw3som',\n",
       " '0ayfzlfxnk',\n",
       " '0bac2k7wrb',\n",
       " '0bbqai7zs0',\n",
       " '0be2rqomke',\n",
       " '0bf7bolwej',\n",
       " '0blmhiun',\n",
       " '0bnvlx9o4z',\n",
       " '0bstlvq7v9',\n",
       " '0bvyzwuuxn',\n",
       " '0c1vzzdzah',\n",
       " '0c6m20zq',\n",
       " '0cidcuofeo',\n",
       " '0cihjrbk2l',\n",
       " '0cqowffzf4',\n",
       " '0cumi3p5bu',\n",
       " '0cvpyqrljv',\n",
       " '0cvrmqdqaf',\n",
       " '0cvud76ftl',\n",
       " '0cwocqygzp',\n",
       " '0cztobbp7w',\n",
       " '0czw2o7dhl',\n",
       " '0d0fvsipzw',\n",
       " '0d56gvoi0r',\n",
       " '0daozzcx05',\n",
       " '0dcjahwdxg',\n",
       " '0dctxxkiio',\n",
       " '0dffbnf2zj',\n",
       " '0dhwrgu7wf',\n",
       " '0dkapeiojr',\n",
       " '0dkbmnusul',\n",
       " '0dm8osc',\n",
       " '0dr0v3czmh',\n",
       " '0dwivjpojg',\n",
       " '0dyhkzzwvj',\n",
       " '0dynokcrbv',\n",
       " '0e2otdy6ev',\n",
       " '0e3ovrv77j',\n",
       " '0e9wgllj',\n",
       " '0ebgnjo0ib',\n",
       " '0ecubnvfnr',\n",
       " '0edqrmaqxx',\n",
       " '0ee1u1jnst',\n",
       " '0egynkf5fk',\n",
       " '0ehwpezhry',\n",
       " '0ei3edqdxb',\n",
       " '0el8s8bup5',\n",
       " '0erxa1snla',\n",
       " '0espxwqp2f',\n",
       " '0etprbvda8',\n",
       " '0ewm7',\n",
       " '0extrxkebu',\n",
       " '0f3pvb3v',\n",
       " '0f7qegyqr9',\n",
       " '0fevlolwyu',\n",
       " '0ffektsujn',\n",
       " '0fggw3qifs',\n",
       " '0flna8kmr2',\n",
       " '0fm8jcwveq',\n",
       " '0fp9amn8i4',\n",
       " '0frauxr8bk',\n",
       " '0fstsye4cy',\n",
       " '0fxtg8nuop',\n",
       " '0fycsguhiw',\n",
       " '0g4hrpmnxl',\n",
       " '0g9gzexsps',\n",
       " '0geso32qon',\n",
       " '0gfavxmtl2',\n",
       " '0ggdwlxhxg',\n",
       " '0gkbcef7um',\n",
       " '0gkewtz4ug',\n",
       " '0gmv1doazo',\n",
       " '0gptubs4rn',\n",
       " '0gwkhih1be',\n",
       " '0gxpdwu7zw',\n",
       " '0gybwwjmlw',\n",
       " '0gyfbchxuz',\n",
       " '0hgsaerlja',\n",
       " '0hjpbm6yuu',\n",
       " '0hqju8u0ld',\n",
       " '0hqtz8fzrz',\n",
       " '0hrgyieniq',\n",
       " '0huppppodf',\n",
       " '0i1osieahy',\n",
       " '0i2ajcvd',\n",
       " '0icdnwks1u',\n",
       " '0iepnmu3x0',\n",
       " '0ify6lmvfm',\n",
       " '0ihadjm3ji',\n",
       " '0ihlxbtunz',\n",
       " '0ikikzqs',\n",
       " '0inugulzfh',\n",
       " '0iorovghtf',\n",
       " '0irdg8etba',\n",
       " '0ivebzfuw8',\n",
       " '0j7b1prss4',\n",
       " '0jbcg4rvq4',\n",
       " '0jbrr2y',\n",
       " '0jcjfbcpjz',\n",
       " '0jclvhemzc',\n",
       " '0jftpkahxq',\n",
       " '0jg5mcq',\n",
       " '0jgm7z9eat',\n",
       " '0jicbj1ket',\n",
       " '0jjwlhijmk',\n",
       " '0jk0zt6vbb',\n",
       " '0jk3hchevr',\n",
       " '0jks1vvv4y',\n",
       " '0jlcooowdk',\n",
       " '0jut77j4aj',\n",
       " '0jvsfn2xaq',\n",
       " '0jw0eaj0uy',\n",
       " '0jxbenuujg',\n",
       " '0jxpcwdjuv',\n",
       " '0jyfrgjq',\n",
       " '0jymbm8rpk',\n",
       " '0k1xlyoshe',\n",
       " '0k5rmve0wp',\n",
       " '0kbf22nnm4',\n",
       " '0kbt4s5wrb',\n",
       " '0kdgvsea24',\n",
       " '0kebjvcyj8',\n",
       " '0kfcliwqws',\n",
       " '0kilmo6v9f',\n",
       " '0kizpae5ko',\n",
       " '0kjxfey8vw',\n",
       " '0knkqae3oe',\n",
       " '0koqdgri9p',\n",
       " '0kxhvqgc1x',\n",
       " '0kz4hcrb5f',\n",
       " '0l7nn7cprf',\n",
       " '0lawbcko7d',\n",
       " '0lbxpnukdd',\n",
       " '0lcb7vydrx',\n",
       " '0ljosixdgn',\n",
       " '0lkuwezmf7',\n",
       " '0lmb0e62rs',\n",
       " '0lmdhthaqb',\n",
       " '0lq7vvd3gj',\n",
       " '0lqnmdbfba',\n",
       " '0lr1kvsxij',\n",
       " '0lwutf0xpy',\n",
       " '0m4bkpnt82',\n",
       " '0m8hflff',\n",
       " '0m9mrgigvx',\n",
       " '0mgk4ty',\n",
       " '0mgxi9gn5n',\n",
       " '0mhrncep',\n",
       " '0mi1rifrto',\n",
       " '0mjnewzzqq',\n",
       " '0mmlwluigh',\n",
       " '0mnzqgqmns',\n",
       " '0mojrkkdqp',\n",
       " '0mphx1oppg',\n",
       " '0mpzz1ptan',\n",
       " '0mq6fnnp',\n",
       " '0mspxvucl3',\n",
       " '0muvy82llt',\n",
       " '0myikmewpj',\n",
       " '0mymghaxy8',\n",
       " '0mzw3zkwa8',\n",
       " '0n37kikbjf',\n",
       " '0n4gimri',\n",
       " '0n9dpgfdai',\n",
       " '0na63oczm4',\n",
       " '0ngvsd7xfq',\n",
       " '0nkawrqjg8',\n",
       " '0nla9br8wb',\n",
       " '0nlf8fst4u',\n",
       " '0nnkebsd73',\n",
       " '0no22ke854',\n",
       " '0nqlzbwufo',\n",
       " '0nraes9p3c',\n",
       " '0ntdxwsk',\n",
       " '0o6vssisls',\n",
       " '0oat6pqtyb',\n",
       " '0odo9uosjz',\n",
       " '0og4fc8tks',\n",
       " '0oh6zn3aqq',\n",
       " '0ohsggljyn',\n",
       " '0oinv1gqgq',\n",
       " '0okhrpadul',\n",
       " '0ov4sdhmtc',\n",
       " '0ow8hn3jar',\n",
       " '0oytm1l3yd',\n",
       " '0p1zpvblx4',\n",
       " '0p2cvjecup',\n",
       " '0p6qpuvdrf',\n",
       " '0p8jrkyucq',\n",
       " '0pdau7bvlr',\n",
       " '0pfaopz4xl',\n",
       " '0pflva5epn',\n",
       " '0pigumckgb',\n",
       " '0pkxzshsde',\n",
       " '0plbbyuo60',\n",
       " '0plj5b4vxi',\n",
       " '0putost5ky',\n",
       " '0pv3wp0ozp',\n",
       " '0pvnmjb9kr',\n",
       " '0pwrg313kr',\n",
       " '0pxrpyoc6q',\n",
       " '0pzzeqoumn',\n",
       " '0q8gqfarap',\n",
       " '0qbhrcwvsm',\n",
       " '0qcuv',\n",
       " '0qdjbsriab',\n",
       " '0qgmfadvbf',\n",
       " '0qgt5j39w1',\n",
       " '0qiaejgh7s',\n",
       " '0ql1o0u0',\n",
       " '0qnjgbcekl',\n",
       " '0qs5hu0y',\n",
       " '0qusxersql',\n",
       " '0qvgyksnct',\n",
       " '0qwneiye',\n",
       " '0qxznuy18f',\n",
       " '0qyiqmqisq',\n",
       " '0qywb3aiyp',\n",
       " '0r3olxbq',\n",
       " '0r6q9hluas',\n",
       " '0rb',\n",
       " '0rbaxvcwhf',\n",
       " '0rbdkhwylu',\n",
       " '0rey8var14',\n",
       " '0rfhocy430',\n",
       " '0riugx6y0q',\n",
       " '0rkqr6l',\n",
       " '0rpcasegli',\n",
       " '0rrpbfigxh',\n",
       " '0rt1u4sgdp',\n",
       " '0rtsmxdnfc',\n",
       " '0rwijndnqx',\n",
       " '0rxuay3ap1',\n",
       " '0s2pxzgsi0',\n",
       " '0s2zvgrbtj',\n",
       " '0s3vrxp2f3',\n",
       " '0s9jem6q1s',\n",
       " '0sa6zipdh0',\n",
       " '0sa9dddxsq',\n",
       " '0sadme786b',\n",
       " '0saun7ii6f',\n",
       " '0sb0z7o9ds',\n",
       " '0sb6wfluse',\n",
       " '0set3s3oym',\n",
       " '0seydeb81r',\n",
       " '0shuuyubev',\n",
       " '0sjjtrfqmj',\n",
       " '0sle5hubiq',\n",
       " '0slkahwsrx',\n",
       " '0slljygf3l',\n",
       " '0sqpvafhjf',\n",
       " '0sug5ecxpe',\n",
       " '0svnlm05nq',\n",
       " '0swdfcnl91',\n",
       " '0swdrllqdj',\n",
       " '0szbygklde',\n",
       " '0t3eijn',\n",
       " '0t8yc2vyyk',\n",
       " '0t9zxmwfif',\n",
       " '0thbfhnys7',\n",
       " '0thsajrdyk',\n",
       " '0tiqhvjpmj',\n",
       " '0tn0brm3jf',\n",
       " '0toybfx4km',\n",
       " '0tr2uyew',\n",
       " '0tsfbogsnw',\n",
       " '0tugyuhyg4',\n",
       " '0tupanfumr',\n",
       " '0twcz2tihm',\n",
       " '0tybml8zqv',\n",
       " '0tymfbphu9',\n",
       " '0uckq2cgjq',\n",
       " '0ud7riqpa0',\n",
       " '0udccvrdfv',\n",
       " '0udy6aert7',\n",
       " '0uex55gijc',\n",
       " '0ufj8hjxwt',\n",
       " '0uiq4zcb',\n",
       " '0urjshupl2',\n",
       " '0uu5esalr7',\n",
       " '0uubsbmqau',\n",
       " '0uvc9f5svm',\n",
       " '0uysuedkkj',\n",
       " '0v0hcdxkum',\n",
       " '0v3bg5yq3g',\n",
       " '0vgu4cteoa',\n",
       " '0vh0cgoufa',\n",
       " '0vopstn2bq',\n",
       " '0vp9oxkzbv',\n",
       " '0vt49bohet',\n",
       " '0vvvkqvwqv',\n",
       " '0vxjuaqbnn',\n",
       " '0vxkr4xyxm',\n",
       " '0vxlt9iebr',\n",
       " '0vyge9fmmu',\n",
       " '0w4ldd7dw3',\n",
       " '0wib6uezon',\n",
       " '0wntcyk3',\n",
       " '0wpjvvn4',\n",
       " '0wt',\n",
       " '0wt6nf3ean',\n",
       " '0wulpmt6jz',\n",
       " '0wvhi4x3ut',\n",
       " '0wwvj1w0v8',\n",
       " '0wx6bfgq6b',\n",
       " '0wzncjgzfn',\n",
       " '0x',\n",
       " '0x2qed7174',\n",
       " '0xalz2gzty',\n",
       " '0xege6xfc2',\n",
       " '0xgbbhoz9t',\n",
       " '0xlc4vccvf',\n",
       " '0xn8gmxlbd',\n",
       " '0xqt4gjm3g',\n",
       " '0xslu92drv',\n",
       " '0xzfpqwros',\n",
       " '0xzwwcrmdh',\n",
       " '0yglkuo3bj',\n",
       " '0ygz6x58jz',\n",
       " '0yko0i4uph',\n",
       " '0yqorhkyo2',\n",
       " '0yr4bl15gh',\n",
       " '0yw292vtvn',\n",
       " '0ywvwrzdad',\n",
       " '0yxq4sfslo',\n",
       " '0yyd6rgvxo',\n",
       " '0z03t1rps1',\n",
       " '0z4uyxvkft',\n",
       " '0za3sf6eod',\n",
       " '0zasfsrbog',\n",
       " '0zgxhevz2e',\n",
       " '0zli88imcr',\n",
       " '0zmkk1acv4',\n",
       " '0zmkk1j23w',\n",
       " '0zt592bwy0',\n",
       " '0ztqscps1z',\n",
       " '0zv01evqti',\n",
       " '0zv2yvedrx',\n",
       " '0zw1uoerni',\n",
       " '0zwthubfn7',\n",
       " '0zxwacniip',\n",
       " '0zyi7hck3n',\n",
       " '10',\n",
       " '100',\n",
       " '1000',\n",
       " '10000',\n",
       " '100000',\n",
       " '100000000',\n",
       " '1000a',\n",
       " '1001',\n",
       " '100b',\n",
       " '100bestcos',\n",
       " '100k',\n",
       " '100m',\n",
       " '100mm',\n",
       " '100ms',\n",
       " '100s',\n",
       " '100th',\n",
       " '100thchattyshow',\n",
       " '100x',\n",
       " '101',\n",
       " '101st',\n",
       " '102',\n",
       " '1027kiisfm',\n",
       " '102tb',\n",
       " '103',\n",
       " '1030pm',\n",
       " '1033ampradio',\n",
       " '1035kissfm',\n",
       " '1035ktu',\n",
       " '1043now',\n",
       " '1045chumfm',\n",
       " '104th',\n",
       " '105',\n",
       " '1061bli',\n",
       " '107wrhl6yx',\n",
       " '108',\n",
       " '109',\n",
       " '10a',\n",
       " '10am',\n",
       " '10b',\n",
       " '10clj5fooh',\n",
       " '10days',\n",
       " '10hours',\n",
       " '10k',\n",
       " '10m',\n",
       " '10minflight',\n",
       " '10ms',\n",
       " '10p',\n",
       " '10pe',\n",
       " '10pm',\n",
       " '10pme',\n",
       " '10qkaepno',\n",
       " '10t',\n",
       " '10th',\n",
       " '10tnamyebq',\n",
       " '10v2cqx3a',\n",
       " '10vpvhlgb',\n",
       " '10wxymaike',\n",
       " '10x',\n",
       " '10years',\n",
       " '10yearsofkidrauhl',\n",
       " '10yr',\n",
       " '10z54civri',\n",
       " '11',\n",
       " '110',\n",
       " '110b',\n",
       " '1113',\n",
       " '112',\n",
       " '113',\n",
       " '114',\n",
       " '115',\n",
       " '115h58cmsw',\n",
       " '117',\n",
       " '119',\n",
       " '11alnxvalh',\n",
       " '11am',\n",
       " '11bf3th3jb',\n",
       " '11days',\n",
       " '11gb',\n",
       " '11gkggjr23',\n",
       " '11kazgxqxn',\n",
       " '11likes',\n",
       " '11m',\n",
       " '11phenomenon',\n",
       " '11pm',\n",
       " '11pmc',\n",
       " '11pme',\n",
       " '11remu99qc',\n",
       " '11rjpfow99',\n",
       " '11th',\n",
       " '12',\n",
       " '120',\n",
       " '120b',\n",
       " '121',\n",
       " '123',\n",
       " '1237',\n",
       " '123ntce8hs',\n",
       " '123rd',\n",
       " '125',\n",
       " '12553of',\n",
       " '126',\n",
       " '127',\n",
       " '127th',\n",
       " '128',\n",
       " '12831183',\n",
       " '129',\n",
       " '12am',\n",
       " '12days',\n",
       " '12daysuntilcomeandgetit',\n",
       " '12hours',\n",
       " '12judfuowu',\n",
       " '12k',\n",
       " '12marcelov',\n",
       " '12mercer',\n",
       " '12mndnjeys',\n",
       " '12n1ixuor',\n",
       " '12pm',\n",
       " '12qqnudzpp',\n",
       " '12qzikna6',\n",
       " '12s',\n",
       " '12th',\n",
       " '12wu5yva',\n",
       " '13',\n",
       " '1314',\n",
       " '132',\n",
       " '135',\n",
       " '137',\n",
       " '1374',\n",
       " '137th',\n",
       " '138',\n",
       " '139',\n",
       " '13b',\n",
       " '13days',\n",
       " '13jphmtcl',\n",
       " '13ksrw5wga',\n",
       " '13m',\n",
       " '13nightsofhalloween',\n",
       " '13rdmr8tce',\n",
       " '13rw',\n",
       " '13th',\n",
       " '13vao91fdb',\n",
       " '13ya5r',\n",
       " '14',\n",
       " '140',\n",
       " '140th',\n",
       " '141',\n",
       " '142',\n",
       " '143',\n",
       " '144',\n",
       " '146',\n",
       " '149',\n",
       " '14bmiprxv',\n",
       " '14days',\n",
       " '14hibs4qe',\n",
       " '14ov3uwzm',\n",
       " '14s6xrliqh',\n",
       " '14th',\n",
       " '14tmnjmmj',\n",
       " '14unfypwtm',\n",
       " '14vkbudi5',\n",
       " '15',\n",
       " '150',\n",
       " '150b',\n",
       " '150m',\n",
       " '150th',\n",
       " '151',\n",
       " '152',\n",
       " '156',\n",
       " '15936rrga7',\n",
       " '15aechjx0q',\n",
       " '15am',\n",
       " '15cgtakvm',\n",
       " '15days',\n",
       " '15et',\n",
       " '15feo0xrzr',\n",
       " '15k',\n",
       " '15kso3njz',\n",
       " '15ljcqw7xt',\n",
       " '15m',\n",
       " '15pm',\n",
       " '15s',\n",
       " '15th',\n",
       " '16',\n",
       " '160',\n",
       " '1600',\n",
       " '161',\n",
       " '162',\n",
       " '162mb',\n",
       " '164',\n",
       " '16b',\n",
       " '16days',\n",
       " '16daystoalbum',\n",
       " '16gb',\n",
       " '16gd9qwqtq',\n",
       " '16heszjac7',\n",
       " '16m',\n",
       " '16rxfyvvlt',\n",
       " '16th',\n",
       " '16tx0ipaa',\n",
       " '16txzsowtl',\n",
       " '16xhe5xowg',\n",
       " '16xvtgridt',\n",
       " '16yfeamgb',\n",
       " '17',\n",
       " '170',\n",
       " '173',\n",
       " '1750',\n",
       " '175k',\n",
       " '178',\n",
       " '179',\n",
       " '17days',\n",
       " '17iy5pnd',\n",
       " '17k',\n",
       " '17rr8clww7',\n",
       " '17sb3zfmef',\n",
       " '17t1vh4iak',\n",
       " '17th',\n",
       " '18',\n",
       " '180',\n",
       " '185',\n",
       " '1850',\n",
       " '18days',\n",
       " '18gpibekud',\n",
       " '18ktk7izud',\n",
       " '18mph',\n",
       " '18mubkfpjr',\n",
       " '18qp0cnvfc',\n",
       " '18th',\n",
       " '18u4e5hgqu',\n",
       " '18u5zv53ir',\n",
       " '19',\n",
       " '190',\n",
       " '1908',\n",
       " '1914',\n",
       " '1939',\n",
       " '1940',\n",
       " '1944',\n",
       " '1946',\n",
       " '1949z',\n",
       " '1956',\n",
       " '1960s',\n",
       " '1961',\n",
       " '1963',\n",
       " '1968',\n",
       " '1973',\n",
       " '1975',\n",
       " '1976',\n",
       " '1980',\n",
       " '1980s',\n",
       " '1984',\n",
       " '1986',\n",
       " '1988',\n",
       " '1989misfit',\n",
       " '1990',\n",
       " '1990s',\n",
       " '1991',\n",
       " '1995',\n",
       " '1997',\n",
       " '1999',\n",
       " '19au8ild',\n",
       " '19b',\n",
       " '19days',\n",
       " '19kow2aj9h',\n",
       " '19mrwcy56q',\n",
       " '19oa1zv27y',\n",
       " '19ovx5szdp',\n",
       " '19p',\n",
       " '19pts',\n",
       " '19qvzpvawl',\n",
       " '19sshz8dsu',\n",
       " '19th',\n",
       " '19tzei6ebb',\n",
       " '19uy8suv',\n",
       " '19vrddpzzw',\n",
       " '19ywmubdlo',\n",
       " '1a2gmm6pmi',\n",
       " '1a2ugcbefl',\n",
       " '1a3deyauw8',\n",
       " '1aaykukmvn',\n",
       " '1acie2gboy',\n",
       " '1ai1bkschb',\n",
       " '1aip1pptdl',\n",
       " '1al8yztqk9',\n",
       " '1am',\n",
       " '1amxtpnwil',\n",
       " '1annryv2ls',\n",
       " '1atfbd5t',\n",
       " '1atlvwibz0',\n",
       " '1atwspfrgi',\n",
       " '1au7wnjhhx',\n",
       " '1avvloyygv',\n",
       " '1avzgklqk3',\n",
       " '1axtujxg0s',\n",
       " '1axv9evxax',\n",
       " '1ayjudarrb',\n",
       " '1azamy9o',\n",
       " '1b',\n",
       " '1baovdkprv',\n",
       " '1blq8nlozz',\n",
       " '1blxjgfptg',\n",
       " '1bncku28m3',\n",
       " '1bueojadtz',\n",
       " '1bvjaxva',\n",
       " '1bvs7fcw7r',\n",
       " '1bx3rge3cu',\n",
       " '1c2kluvsb2',\n",
       " '1c3ejyu2wb',\n",
       " '1c5otusm',\n",
       " '1cdmpms9nt',\n",
       " '1ce23fhqvr',\n",
       " '1cez8wg7cy',\n",
       " '1cgbx1yy35',\n",
       " '1cgm8lptto',\n",
       " '1cgspkfnat',\n",
       " '1cj7ofbqiz',\n",
       " '1cjevebugc',\n",
       " '1clwk7igri',\n",
       " '1cnlkmaj4f',\n",
       " '1cnlkmsktf',\n",
       " '1cott0rpy7',\n",
       " '1cr1ychown',\n",
       " '1cslglj3sd',\n",
       " '1cwgn8xcrr',\n",
       " '1cxzrtwvey',\n",
       " '1d3o3vd0uo',\n",
       " '1d3w5mvcnv',\n",
       " '1day',\n",
       " '1daystillpurpose',\n",
       " '1dbiebergomez',\n",
       " '1dchlwlr',\n",
       " '1ddd1b4cw2',\n",
       " '1ddemilovexx',\n",
       " '1ddsuqd3b',\n",
       " '1der387tvo',\n",
       " '1dggg9i71o',\n",
       " '1dn9rtk3fu',\n",
       " '1dogf9co31',\n",
       " '1dqixbb5en',\n",
       " '1drzpfa6je',\n",
       " '1dsnbqwkxi',\n",
       " '1dtjlax9lw',\n",
       " '1dv2zhv4d',\n",
       " '1dwetgxbed',\n",
       " '1e6gk0psqh',\n",
       " '1eagxxfpgt',\n",
       " '1ecgmqwowf',\n",
       " '1eg9ty1vmo',\n",
       " '1egyi3dv',\n",
       " '1elnjvmt',\n",
       " '1em8srcddf',\n",
       " '1emqbs4f',\n",
       " '1eoqetsayb',\n",
       " '1eq070j7gj',\n",
       " '1euicg8e8e',\n",
       " '1f4lai0dda',\n",
       " '1f7qsxcefd',\n",
       " '1fbo3elytg',\n",
       " '1ffe3gshsa',\n",
       " '1fggyzzr',\n",
       " '1figydyjnm',\n",
       " '1fjnxpzmja',\n",
       " '1fjuzqoyyg',\n",
       " '1flbtn2pqq',\n",
       " '1frj5elq46',\n",
       " '1frvqklj',\n",
       " '1ftm7lbxrs',\n",
       " '1fxs5d6hhi',\n",
       " '1g2qtkrcnc',\n",
       " '1g2tske2cw',\n",
       " '1ggughitl1',\n",
       " '1gmrq9ad1s',\n",
       " '1goal',\n",
       " '1gohsufmej',\n",
       " '1gu5jgvum1',\n",
       " '1h3a0k1c8i',\n",
       " '1h3zafxtpo',\n",
       " '1h5j4dzdgy',\n",
       " '1ha7cwe9yu',\n",
       " '1hamnik1i8',\n",
       " '1hdvqkfovo',\n",
       " '1hlgixbqia',\n",
       " '1hmgltyjf4',\n",
       " '1ho3i7f0kd',\n",
       " '1hortkyitn',\n",
       " '1hour',\n",
       " '1hp1fd8vys',\n",
       " '1hq8gmtkyi',\n",
       " '1hr0bvadte',\n",
       " '1hrh6wgo13',\n",
       " '1hsrxvr9az',\n",
       " '1htjc9onmv',\n",
       " '1hv8zaen2e',\n",
       " '1hw87738oh',\n",
       " '1hzn6iziew',\n",
       " '1id1kbz',\n",
       " '1idynj0ni1',\n",
       " '1ilaezhnks',\n",
       " '1ino7ang1s',\n",
       " '1ip0jztgrk',\n",
       " '1ipvwx0avu',\n",
       " '1isyaoutn3',\n",
       " '1iwpcvhvnu',\n",
       " '1j8gdpza0q',\n",
       " '1j94s4egzr',\n",
       " '1jajhyrhoc',\n",
       " '1jatilh2k7',\n",
       " '1jc6adshbl',\n",
       " '1jcsedl2bg',\n",
       " '1jedwppcux',\n",
       " '1jhsmnzqkd',\n",
       " '1ji6pnw9',\n",
       " '1jj2kn0ani',\n",
       " '1jjqtiwmo6',\n",
       " '1jmsqpyzor',\n",
       " '1jnfnraqcp',\n",
       " '1jokviue0l',\n",
       " '1jqapqsoim',\n",
       " '1jqmq6nkth',\n",
       " '1jthsivuqc',\n",
       " '1jtlpcom',\n",
       " '1jviygpltw',\n",
       " '1jwdqwwq3t',\n",
       " '1jwhsdvqxg',\n",
       " '1k',\n",
       " '1k2sqgzjba',\n",
       " '1k4sdp1qpp',\n",
       " '1k6sac1bor',\n",
       " '1k9u09cfqq',\n",
       " '1kaotwsu',\n",
       " '1kb',\n",
       " '1keyxrswwj',\n",
       " '1kf4etejb8',\n",
       " '1kf4etwksg',\n",
       " '1kgjieipan',\n",
       " '1khrldkoyw',\n",
       " '1ki5gwm1rs',\n",
       " '1kmpthmg3n',\n",
       " '1koyaebuan',\n",
       " '1kpalofzch',\n",
       " '1ktlhuw1sl',\n",
       " '1kvvwo3lra',\n",
       " '1kxytd2kvu',\n",
       " '1l8j3ihffg',\n",
       " '1ldbvpynml',\n",
       " '1ldwun6pwt',\n",
       " '1lfqcoqo7s',\n",
       " '1lifvnylwp',\n",
       " '1lion',\n",
       " '1lnnzxyhy7',\n",
       " '1lo03kpkxf',\n",
       " '1love',\n",
       " '1lovealways',\n",
       " '1lsjht41',\n",
       " '1lszxchzvf',\n",
       " '1ltlzyze1t',\n",
       " '1lurbad6ny',\n",
       " '1lvnpqwytb',\n",
       " '1lzlyyvzv5',\n",
       " '1m',\n",
       " '1m0qppleiv',\n",
       " '1maewvms',\n",
       " '1manca3i',\n",
       " '1mcmrf5opi',\n",
       " '1mef2ebx4z',\n",
       " '1mgcxpi2n4',\n",
       " '1mgkpnzpkf',\n",
       " '1million',\n",
       " '1milliongifs',\n",
       " '1mkzqs3r',\n",
       " '1mm',\n",
       " '1mtl0nlvzp',\n",
       " '1mvypva2',\n",
       " '1mx09ggz',\n",
       " '1mystntu',\n",
       " '1n2p0v0zzu',\n",
       " '1n3jgdyvtl',\n",
       " '1n7hbkg1ao',\n",
       " '1nbmqywatx',\n",
       " '1ngud95dai',\n",
       " '1nhldfkpms',\n",
       " '1njtmnvs',\n",
       " '1noce9w6ru',\n",
       " '1noh2lmzt9',\n",
       " '1nrj3zcuui',\n",
       " '1o5hkb5puq',\n",
       " '1o6uxcn6n2',\n",
       " '1o7iq0fmz8',\n",
       " '1obobbyebk',\n",
       " '1of',\n",
       " '1of1',\n",
       " '1ofbfrtwa2',\n",
       " '1ofxc59fyz',\n",
       " '1on0jtan',\n",
       " '1onedrop',\n",
       " '1orboayqgd',\n",
       " '1oruz395qe',\n",
       " '1ouj2dyd',\n",
       " '1owrfnhe0u',\n",
       " '1pduqcs8rp',\n",
       " '1pexareo5o',\n",
       " '1pghp6xldi',\n",
       " '1pgud1rn2e',\n",
       " '1pkhtuastk',\n",
       " '1pm',\n",
       " '1pme',\n",
       " '1pnkmt585c',\n",
       " '1prad7ujfo',\n",
       " '1psqy6knfw',\n",
       " '1pst',\n",
       " '1ptczrdxch',\n",
       " '1q2omur3eu',\n",
       " '1q4xgugxft',\n",
       " '1q7somnudf',\n",
       " '1qgoni0zfk',\n",
       " '1qjtnhgx0t',\n",
       " '1qtzue78pv',\n",
       " '1queh1gzcr',\n",
       " '1quzlv77',\n",
       " '1qv95imwho',\n",
       " '1qyuc8zykj',\n",
       " '1qzfvghe2c',\n",
       " '1r2ioj48qn',\n",
       " '1r8w4hkf7o',\n",
       " '1rcpjbgemr',\n",
       " '1rdmiaj',\n",
       " '1rdonw1ysw',\n",
       " '1rhzpyw',\n",
       " '1rlozl72jx',\n",
       " '1rmhlccajh',\n",
       " '1rmycgslsv',\n",
       " '1ro82nptrf',\n",
       " '1rpaksdcck',\n",
       " '1rrrsnv1rs',\n",
       " '1rv43kkn1w',\n",
       " '1rwqqqcr',\n",
       " '1ry7pw9hjm',\n",
       " '1s',\n",
       " '1s24bpagyu',\n",
       " '1s5olazqak',\n",
       " '1s7wygdvvo',\n",
       " '1s8k2bgqeg',\n",
       " ...]"
      ]
     },
     "execution_count": 11,
     "metadata": {},
     "output_type": "execute_result"
    }
   ],
   "source": [
    "simplest_vectorizer.get_feature_names()"
   ]
  },
  {
   "cell_type": "code",
   "execution_count": 12,
   "metadata": {
    "ExecuteTime": {
     "end_time": "2020-01-12T22:21:26.013617Z",
     "start_time": "2020-01-12T22:21:26.008475Z"
    }
   },
   "outputs": [],
   "source": [
    "simplest_classifier = sklearn.naive_bayes.MultinomialNB(fit_prior=False)"
   ]
  },
  {
   "cell_type": "code",
   "execution_count": 13,
   "metadata": {
    "ExecuteTime": {
     "end_time": "2020-01-12T22:21:26.935215Z",
     "start_time": "2020-01-12T22:21:26.818008Z"
    }
   },
   "outputs": [
    {
     "data": {
      "text/plain": [
       "MultinomialNB(alpha=1.0, class_prior=None, fit_prior=False)"
      ]
     },
     "execution_count": 13,
     "metadata": {},
     "output_type": "execute_result"
    }
   ],
   "source": [
    "simplest_classifier.fit(simplest_word_vector, TRAINING_Y)"
   ]
  },
  {
   "cell_type": "code",
   "execution_count": 14,
   "metadata": {
    "ExecuteTime": {
     "end_time": "2020-01-12T22:21:29.697116Z",
     "start_time": "2020-01-12T22:21:29.529881Z"
    }
   },
   "outputs": [
    {
     "data": {
      "text/plain": [
       "0.9334332459098289"
      ]
     },
     "execution_count": 14,
     "metadata": {},
     "output_type": "execute_result"
    }
   ],
   "source": [
    "simplest_classifier.score(simplest_vectorizer.transform(test_X), test_Y)"
   ]
  },
  {
   "cell_type": "markdown",
   "metadata": {},
   "source": [
    "### The prediction itself"
   ]
  },
  {
   "cell_type": "code",
   "execution_count": 15,
   "metadata": {
    "ExecuteTime": {
     "end_time": "2020-01-12T22:21:33.482522Z",
     "start_time": "2020-01-12T22:21:33.160814Z"
    }
   },
   "outputs": [
    {
     "data": {
      "text/plain": [
       "array(['politician', 'celebrity', 'celebrity', ..., 'politician',\n",
       "       'celebrity', 'celebrity'], dtype='<U16')"
      ]
     },
     "execution_count": 15,
     "metadata": {},
     "output_type": "execute_result"
    }
   ],
   "source": [
    "simplest_answer = simplest_classifier.predict(simplest_vectorizer.transform(question))\n",
    "simplest_answer"
   ]
  },
  {
   "cell_type": "code",
   "execution_count": 16,
   "metadata": {
    "ExecuteTime": {
     "end_time": "2020-01-12T22:21:36.462134Z",
     "start_time": "2020-01-12T22:21:36.434987Z"
    }
   },
   "outputs": [
    {
     "data": {
      "text/html": [
       "<div>\n",
       "<style scoped>\n",
       "    .dataframe tbody tr th:only-of-type {\n",
       "        vertical-align: middle;\n",
       "    }\n",
       "\n",
       "    .dataframe tbody tr th {\n",
       "        vertical-align: top;\n",
       "    }\n",
       "\n",
       "    .dataframe thead th {\n",
       "        text-align: right;\n",
       "    }\n",
       "</style>\n",
       "<table border=\"1\" class=\"dataframe\">\n",
       "  <thead>\n",
       "    <tr style=\"text-align: right;\">\n",
       "      <th></th>\n",
       "      <th>target</th>\n",
       "    </tr>\n",
       "  </thead>\n",
       "  <tbody>\n",
       "    <tr>\n",
       "      <th>0</th>\n",
       "      <td>politician</td>\n",
       "    </tr>\n",
       "    <tr>\n",
       "      <th>1</th>\n",
       "      <td>celebrity</td>\n",
       "    </tr>\n",
       "    <tr>\n",
       "      <th>2</th>\n",
       "      <td>celebrity</td>\n",
       "    </tr>\n",
       "    <tr>\n",
       "      <th>3</th>\n",
       "      <td>politician</td>\n",
       "    </tr>\n",
       "    <tr>\n",
       "      <th>4</th>\n",
       "      <td>politician</td>\n",
       "    </tr>\n",
       "    <tr>\n",
       "      <th>...</th>\n",
       "      <td>...</td>\n",
       "    </tr>\n",
       "    <tr>\n",
       "      <th>12419</th>\n",
       "      <td>celebrity</td>\n",
       "    </tr>\n",
       "    <tr>\n",
       "      <th>12420</th>\n",
       "      <td>celebrity</td>\n",
       "    </tr>\n",
       "    <tr>\n",
       "      <th>12421</th>\n",
       "      <td>politician</td>\n",
       "    </tr>\n",
       "    <tr>\n",
       "      <th>12422</th>\n",
       "      <td>celebrity</td>\n",
       "    </tr>\n",
       "    <tr>\n",
       "      <th>12423</th>\n",
       "      <td>celebrity</td>\n",
       "    </tr>\n",
       "  </tbody>\n",
       "</table>\n",
       "<p>12424 rows × 1 columns</p>\n",
       "</div>"
      ],
      "text/plain": [
       "           target\n",
       "0      politician\n",
       "1       celebrity\n",
       "2       celebrity\n",
       "3      politician\n",
       "4      politician\n",
       "...           ...\n",
       "12419   celebrity\n",
       "12420   celebrity\n",
       "12421  politician\n",
       "12422   celebrity\n",
       "12423   celebrity\n",
       "\n",
       "[12424 rows x 1 columns]"
      ]
     },
     "execution_count": 16,
     "metadata": {},
     "output_type": "execute_result"
    }
   ],
   "source": [
    "simplest_answer_df = pd.DataFrame.from_dict(\n",
    "    {'target': [v for v in simplest_answer]})\n",
    "simplest_answer_df"
   ]
  },
  {
   "cell_type": "code",
   "execution_count": 17,
   "metadata": {
    "ExecuteTime": {
     "end_time": "2020-01-12T22:21:41.127857Z",
     "start_time": "2020-01-12T22:21:41.101710Z"
    }
   },
   "outputs": [],
   "source": [
    "with open('simplest-result.csv', 'w') as f:\n",
    "    f.write(\n",
    "        simplest_answer_df.to_csv(index=True, index_label='id', quoting=csv.QUOTE_NONNUMERIC))"
   ]
  },
  {
   "cell_type": "markdown",
   "metadata": {},
   "source": [
    "## Separate classifier for every target"
   ]
  },
  {
   "cell_type": "markdown",
   "metadata": {},
   "source": [
    "### Dataset splitting"
   ]
  },
  {
   "cell_type": "markdown",
   "metadata": {},
   "source": [
    "#### IDs extraction"
   ]
  },
  {
   "cell_type": "code",
   "execution_count": 284,
   "metadata": {
    "ExecuteTime": {
     "end_time": "2020-01-12T23:56:49.773565Z",
     "start_time": "2020-01-12T23:56:49.763983Z"
    }
   },
   "outputs": [
    {
     "data": {
      "text/plain": [
       "(6081,)"
      ]
     },
     "execution_count": 284,
     "metadata": {},
     "output_type": "execute_result"
    }
   ],
   "source": [
    "politician_ids = TRAINING_Y[TRAINING_Y == 'politician'].index\n",
    "politician_ids.shape"
   ]
  },
  {
   "cell_type": "code",
   "execution_count": 285,
   "metadata": {
    "ExecuteTime": {
     "end_time": "2020-01-12T23:56:50.418863Z",
     "start_time": "2020-01-12T23:56:50.391730Z"
    }
   },
   "outputs": [
    {
     "data": {
      "text/plain": [
       "(18377,)"
      ]
     },
     "execution_count": 285,
     "metadata": {},
     "output_type": "execute_result"
    }
   ],
   "source": [
    "celebrity_ids = TRAINING_Y[TRAINING_Y == 'celebrity'].index\n",
    "celebrity_ids.shape"
   ]
  },
  {
   "cell_type": "code",
   "execution_count": 286,
   "metadata": {
    "ExecuteTime": {
     "end_time": "2020-01-12T23:56:51.025744Z",
     "start_time": "2020-01-12T23:56:51.005758Z"
    }
   },
   "outputs": [
    {
     "data": {
      "text/plain": [
       "(2701,)"
      ]
     },
     "execution_count": 286,
     "metadata": {},
     "output_type": "execute_result"
    }
   ],
   "source": [
    "biztech_ids = TRAINING_Y[TRAINING_Y == 'biz&tech'].index\n",
    "biztech_ids.shape"
   ]
  },
  {
   "cell_type": "code",
   "execution_count": 287,
   "metadata": {
    "ExecuteTime": {
     "end_time": "2020-01-12T23:56:52.455774Z",
     "start_time": "2020-01-12T23:56:52.446592Z"
    }
   },
   "outputs": [
    {
     "data": {
      "text/plain": [
       "(4867,)"
      ]
     },
     "execution_count": 287,
     "metadata": {},
     "output_type": "execute_result"
    }
   ],
   "source": [
    "internetplatform_ids = TRAINING_Y[TRAINING_Y == 'internetplatform'].index\n",
    "internetplatform_ids.shape"
   ]
  },
  {
   "cell_type": "markdown",
   "metadata": {},
   "source": [
    "#### Training targets preparation"
   ]
  },
  {
   "cell_type": "code",
   "execution_count": 288,
   "metadata": {
    "ExecuteTime": {
     "end_time": "2020-01-12T23:56:53.481448Z",
     "start_time": "2020-01-12T23:56:53.461206Z"
    }
   },
   "outputs": [
    {
     "data": {
      "text/plain": [
       "6081"
      ]
     },
     "execution_count": 288,
     "metadata": {},
     "output_type": "execute_result"
    }
   ],
   "source": [
    "politician_y = TRAINING_Y.copy()\n",
    "politician_y[:] = 0\n",
    "politician_y[politician_ids] = 1\n",
    "np.sum(politician_y)"
   ]
  },
  {
   "cell_type": "code",
   "execution_count": 289,
   "metadata": {
    "ExecuteTime": {
     "end_time": "2020-01-12T23:56:54.850941Z",
     "start_time": "2020-01-12T23:56:54.811000Z"
    }
   },
   "outputs": [
    {
     "data": {
      "text/plain": [
       "18377"
      ]
     },
     "execution_count": 289,
     "metadata": {},
     "output_type": "execute_result"
    }
   ],
   "source": [
    "celebrity_y = TRAINING_Y.copy()\n",
    "celebrity_y[:] = 0\n",
    "celebrity_y[celebrity_ids] = 1\n",
    "np.sum(celebrity_y)"
   ]
  },
  {
   "cell_type": "code",
   "execution_count": 290,
   "metadata": {
    "ExecuteTime": {
     "end_time": "2020-01-12T23:56:55.313562Z",
     "start_time": "2020-01-12T23:56:55.291185Z"
    }
   },
   "outputs": [
    {
     "data": {
      "text/plain": [
       "2701"
      ]
     },
     "execution_count": 290,
     "metadata": {},
     "output_type": "execute_result"
    }
   ],
   "source": [
    "biztech_y = TRAINING_Y.copy()\n",
    "biztech_y[:] = 0\n",
    "biztech_y[biztech_ids] = 1\n",
    "np.sum(biztech_y)"
   ]
  },
  {
   "cell_type": "code",
   "execution_count": 291,
   "metadata": {
    "ExecuteTime": {
     "end_time": "2020-01-12T23:56:55.872631Z",
     "start_time": "2020-01-12T23:56:55.848281Z"
    }
   },
   "outputs": [
    {
     "data": {
      "text/plain": [
       "4867"
      ]
     },
     "execution_count": 291,
     "metadata": {},
     "output_type": "execute_result"
    }
   ],
   "source": [
    "internetplatform_y = TRAINING_Y.copy()\n",
    "internetplatform_y[:] = 0\n",
    "internetplatform_y[internetplatform_ids] = 1\n",
    "np.sum(internetplatform_y)"
   ]
  },
  {
   "cell_type": "markdown",
   "metadata": {},
   "source": [
    "### Classifiers training"
   ]
  },
  {
   "cell_type": "code",
   "execution_count": 292,
   "metadata": {
    "ExecuteTime": {
     "end_time": "2020-01-12T23:56:58.074453Z",
     "start_time": "2020-01-12T23:56:58.069711Z"
    }
   },
   "outputs": [],
   "source": [
    "politician_classifier = sklearn.naive_bayes.MultinomialNB(fit_prior=False)\n",
    "celebrity_classifier = sklearn.naive_bayes.MultinomialNB(fit_prior=False)\n",
    "biztech_classifier = sklearn.naive_bayes.MultinomialNB(fit_prior=False)\n",
    "internetplatform_classifier = sklearn.naive_bayes.MultinomialNB(fit_prior=False)"
   ]
  },
  {
   "cell_type": "code",
   "execution_count": 293,
   "metadata": {
    "ExecuteTime": {
     "end_time": "2020-01-12T23:56:59.506827Z",
     "start_time": "2020-01-12T23:56:58.591573Z"
    }
   },
   "outputs": [],
   "source": [
    "separate_classes_vectorizer = sklearn.feature_extraction.text.CountVectorizer(\n",
    "    stop_words='english')\n",
    "separate_classes_vector = separate_classes_vectorizer.fit_transform(TRAINING_X)"
   ]
  },
  {
   "cell_type": "code",
   "execution_count": 294,
   "metadata": {
    "ExecuteTime": {
     "end_time": "2020-01-12T23:56:59.715682Z",
     "start_time": "2020-01-12T23:56:59.663201Z"
    }
   },
   "outputs": [
    {
     "data": {
      "text/plain": [
       "MultinomialNB(alpha=1.0, class_prior=None, fit_prior=False)"
      ]
     },
     "execution_count": 294,
     "metadata": {},
     "output_type": "execute_result"
    }
   ],
   "source": [
    "politician_classifier.fit(separate_classes_vector, politician_y)\n",
    "celebrity_classifier.fit(separate_classes_vector, celebrity_y)\n",
    "biztech_classifier.fit(separate_classes_vector, biztech_y)\n",
    "internetplatform_classifier.fit(separate_classes_vector, internetplatform_y)"
   ]
  },
  {
   "cell_type": "markdown",
   "metadata": {},
   "source": [
    "### Prediction"
   ]
  },
  {
   "cell_type": "code",
   "execution_count": 295,
   "metadata": {
    "ExecuteTime": {
     "end_time": "2020-01-12T23:57:01.981246Z",
     "start_time": "2020-01-12T23:57:01.971840Z"
    }
   },
   "outputs": [],
   "source": [
    "def separate_classes_predict(question):\n",
    "    preds = np.array([-42] * len(question))\n",
    "\n",
    "    politician_preds = politician_classifier.predict_proba(\n",
    "        separate_classes_vectorizer.transform(question))[:, 1]\n",
    "    celebrity_preds = celebrity_classifier.predict_proba(\n",
    "        separate_classes_vectorizer.transform(question))[:, 1]\n",
    "    biztech_preds = biztech_classifier.predict_proba(\n",
    "        separate_classes_vectorizer.transform(question))[:, 1]\n",
    "    internetplatform_preds = internetplatform_classifier.predict_proba(\n",
    "        separate_classes_vectorizer.transform(question))[:, 1]\n",
    "    \n",
    "    for idx, _ in enumerate(a):\n",
    "        preds[idx] = np.argmax([\n",
    "            politician_preds[idx], \n",
    "            celebrity_preds[idx],\n",
    "            biztech_preds[idx],\n",
    "            internetplatform_preds[idx]\n",
    "        ])\n",
    "    \n",
    "    return preds"
   ]
  },
  {
   "cell_type": "code",
   "execution_count": 296,
   "metadata": {
    "ExecuteTime": {
     "end_time": "2020-01-12T23:57:04.804839Z",
     "start_time": "2020-01-12T23:57:03.453193Z"
    }
   },
   "outputs": [
    {
     "data": {
      "text/html": [
       "<div>\n",
       "<style scoped>\n",
       "    .dataframe tbody tr th:only-of-type {\n",
       "        vertical-align: middle;\n",
       "    }\n",
       "\n",
       "    .dataframe tbody tr th {\n",
       "        vertical-align: top;\n",
       "    }\n",
       "\n",
       "    .dataframe thead th {\n",
       "        text-align: right;\n",
       "    }\n",
       "</style>\n",
       "<table border=\"1\" class=\"dataframe\">\n",
       "  <thead>\n",
       "    <tr style=\"text-align: right;\">\n",
       "      <th></th>\n",
       "      <th>target</th>\n",
       "    </tr>\n",
       "  </thead>\n",
       "  <tbody>\n",
       "    <tr>\n",
       "      <th>0</th>\n",
       "      <td>politician</td>\n",
       "    </tr>\n",
       "    <tr>\n",
       "      <th>1</th>\n",
       "      <td>celebrity</td>\n",
       "    </tr>\n",
       "    <tr>\n",
       "      <th>2</th>\n",
       "      <td>celebrity</td>\n",
       "    </tr>\n",
       "    <tr>\n",
       "      <th>3</th>\n",
       "      <td>politician</td>\n",
       "    </tr>\n",
       "    <tr>\n",
       "      <th>4</th>\n",
       "      <td>politician</td>\n",
       "    </tr>\n",
       "    <tr>\n",
       "      <th>...</th>\n",
       "      <td>...</td>\n",
       "    </tr>\n",
       "    <tr>\n",
       "      <th>12419</th>\n",
       "      <td>celebrity</td>\n",
       "    </tr>\n",
       "    <tr>\n",
       "      <th>12420</th>\n",
       "      <td>celebrity</td>\n",
       "    </tr>\n",
       "    <tr>\n",
       "      <th>12421</th>\n",
       "      <td>politician</td>\n",
       "    </tr>\n",
       "    <tr>\n",
       "      <th>12422</th>\n",
       "      <td>celebrity</td>\n",
       "    </tr>\n",
       "    <tr>\n",
       "      <th>12423</th>\n",
       "      <td>celebrity</td>\n",
       "    </tr>\n",
       "  </tbody>\n",
       "</table>\n",
       "<p>12424 rows × 1 columns</p>\n",
       "</div>"
      ],
      "text/plain": [
       "           target\n",
       "0      politician\n",
       "1       celebrity\n",
       "2       celebrity\n",
       "3      politician\n",
       "4      politician\n",
       "...           ...\n",
       "12419   celebrity\n",
       "12420   celebrity\n",
       "12421  politician\n",
       "12422   celebrity\n",
       "12423   celebrity\n",
       "\n",
       "[12424 rows x 1 columns]"
      ]
     },
     "execution_count": 296,
     "metadata": {},
     "output_type": "execute_result"
    }
   ],
   "source": [
    "separate_classes_answer = separate_classes_predict(question)\n",
    "\n",
    "separate_classes_answer_df = pd.DataFrame.from_dict(\n",
    "    {'target': [v for v in separate_classes_answer]})\n",
    "\n",
    "separate_classes_answer_df[separate_classes_answer_df['target'] == 0] = 'politician'\n",
    "separate_classes_answer_df[separate_classes_answer_df['target'] == 1] = 'celebrity'\n",
    "separate_classes_answer_df[separate_classes_answer_df['target'] == 2] = 'biz&tech'\n",
    "separate_classes_answer_df[separate_classes_answer_df['target'] == 3] = 'internetplatform'\n",
    "\n",
    "separate_classes_answer_df"
   ]
  },
  {
   "cell_type": "code",
   "execution_count": 297,
   "metadata": {
    "ExecuteTime": {
     "end_time": "2020-01-12T23:57:37.681427Z",
     "start_time": "2020-01-12T23:57:37.648353Z"
    }
   },
   "outputs": [],
   "source": [
    "with open('separate-classes-result.csv', 'w') as f:\n",
    "    f.write(\n",
    "        separate_classes_answer_df.to_csv(\n",
    "            index=True, index_label='id', quoting=csv.QUOTE_NONNUMERIC))"
   ]
  },
  {
   "cell_type": "code",
   "execution_count": 298,
   "metadata": {
    "ExecuteTime": {
     "end_time": "2020-01-12T23:57:38.564917Z",
     "start_time": "2020-01-12T23:57:38.555071Z"
    }
   },
   "outputs": [
    {
     "data": {
      "text/plain": [
       "set()"
      ]
     },
     "execution_count": 298,
     "metadata": {},
     "output_type": "execute_result"
    }
   ],
   "source": [
    "separate_classes_vectorizer.stop_words_"
   ]
  }
 ],
 "metadata": {
  "kernelspec": {
   "display_name": "Python 3",
   "language": "python",
   "name": "python3"
  },
  "language_info": {
   "codemirror_mode": {
    "name": "ipython",
    "version": 3
   },
   "file_extension": ".py",
   "mimetype": "text/x-python",
   "name": "python",
   "nbconvert_exporter": "python",
   "pygments_lexer": "ipython3",
   "version": "3.8.1"
  },
  "toc": {
   "base_numbering": 1,
   "nav_menu": {},
   "number_sections": false,
   "sideBar": true,
   "skip_h1_title": false,
   "title_cell": "Table of Contents",
   "title_sidebar": "Contents",
   "toc_cell": false,
   "toc_position": {
    "height": "calc(100% - 180px)",
    "left": "10px",
    "top": "150px",
    "width": "292px"
   },
   "toc_section_display": true,
   "toc_window_display": true
  },
  "varInspector": {
   "cols": {
    "lenName": 16,
    "lenType": 16,
    "lenVar": 40
   },
   "kernels_config": {
    "python": {
     "delete_cmd_postfix": "",
     "delete_cmd_prefix": "del ",
     "library": "var_list.py",
     "varRefreshCmd": "print(var_dic_list())"
    },
    "r": {
     "delete_cmd_postfix": ") ",
     "delete_cmd_prefix": "rm(",
     "library": "var_list.r",
     "varRefreshCmd": "cat(var_dic_list()) "
    }
   },
   "types_to_exclude": [
    "module",
    "function",
    "builtin_function_or_method",
    "instance",
    "_Feature"
   ],
   "window_display": false
  }
 },
 "nbformat": 4,
 "nbformat_minor": 2
}
